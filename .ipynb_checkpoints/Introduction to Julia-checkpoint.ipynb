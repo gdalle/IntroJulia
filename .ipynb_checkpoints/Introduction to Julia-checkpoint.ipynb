{
 "cells": [
  {
   "cell_type": "markdown",
   "metadata": {},
   "source": [
    "# Introduction to Julia"
   ]
  },
  {
   "cell_type": "markdown",
   "metadata": {},
   "source": [
    "Julia is a recent programming language that aims at combining high performance with ease of use. It is increasingly popular in the mathematical programming community."
   ]
  },
  {
   "cell_type": "markdown",
   "metadata": {},
   "source": [
    "## 0. Preliminaries"
   ]
  },
  {
   "cell_type": "markdown",
   "metadata": {},
   "source": [
    "In this Jupyter notebook, you have access to a structured equivalent of Julia's REPL, i.e. the interactive console. Here, you can divide your code in cells to modify and run each one separately (use `Shift`+`Enter` to run a cell and move to the next one). By default, the output of a cell is the value of its last expression, you can hide it by ending the cell with `;`."
   ]
  },
  {
   "cell_type": "code",
   "execution_count": 1,
   "metadata": {
    "ExecuteTime": {
     "end_time": "2020-11-04T20:26:21.865000+01:00",
     "start_time": "2020-11-04T19:26:20.194Z"
    }
   },
   "outputs": [
    {
     "data": {
      "text/plain": [
       "3"
      ]
     },
     "execution_count": 1,
     "metadata": {},
     "output_type": "execute_result"
    }
   ],
   "source": [
    "1 + 2"
   ]
  },
  {
   "cell_type": "markdown",
   "metadata": {},
   "source": [
    "**This tutorial is quite long, especially the first part. If you want, you can skip directly to part 2 or even 3, and come back to the beginning when you don't know how to do something.**\n",
    "\n",
    "Although we will introduce some useful commands, we cannot describe all of them. A very good summary can be found at https://juliadocs.github.io/Julia-Cheat-Sheet/, and we will often refer the reader to it."
   ]
  },
  {
   "cell_type": "markdown",
   "metadata": {},
   "source": [
    "### Differences with Python"
   ]
  },
  {
   "cell_type": "markdown",
   "metadata": {},
   "source": [
    "For those who already master Python, here are the key novelties of Julia:\n",
    "- Even though they are not necessary, types are heavily used to make the code both clearer and faster.\n",
    "- There are no classes, only \"structures\" which contain data but no methods.\n",
    "- Expressions automatically continue on the next line if they are not finished. Conversely, multiple expressions can be put on a single line when separated with a semicolon `;`.\n",
    "- Blocks are not based on indentation but delimited by the `end` keyword.\n",
    "- Array indexing starts at `a[1]` instead of `a[0]`, and ranges `i:j` include the last index.\n",
    "\n",
    "A more exhaustive list is available at https://docs.julialang.org/en/v1/manual/noteworthy-differences/#Noteworthy-differences-from-Python."
   ]
  },
  {
   "cell_type": "markdown",
   "metadata": {},
   "source": [
    "### Compilation"
   ]
  },
  {
   "cell_type": "markdown",
   "metadata": {},
   "source": [
    "When you run a chunk of code for the first time, it takes longer due to compilation. Don't be surprised, it is fundamental to Julia's performance, and the following runs are much faster."
   ]
  },
  {
   "cell_type": "markdown",
   "metadata": {},
   "source": [
    "### Imports"
   ]
  },
  {
   "cell_type": "markdown",
   "metadata": {},
   "source": [
    "A package can be imported with the keyword `using ...`, which makes all of its functions available without prefix (similar to the Python code `from ... import *`). If you want to keep prefixes, use `import ...` instead.\n",
    "\n",
    "Before a package can be imported, it must be installed. Here we install all the packages we will need during this tutorial. The following cell may take a while to run, especially with a slow internet connection."
   ]
  },
  {
   "cell_type": "code",
   "execution_count": 2,
   "metadata": {
    "ExecuteTime": {
     "end_time": "2020-11-04T20:26:32.972000+01:00",
     "start_time": "2020-11-04T19:26:20.742Z"
    }
   },
   "outputs": [
    {
     "name": "stderr",
     "output_type": "stream",
     "text": [
      "\u001b[32m\u001b[1m   Updating\u001b[22m\u001b[39m registry at `~/.julia/registries/General`\n"
     ]
    },
    {
     "name": "stdout",
     "output_type": "stream",
     "text": [
      "\u001b[?25l    "
     ]
    },
    {
     "name": "stderr",
     "output_type": "stream",
     "text": [
      "\u001b[32m\u001b[1m   Updating\u001b[22m\u001b[39m git-repo `https://github.com/JuliaRegistries/General.git`\n"
     ]
    },
    {
     "name": "stdout",
     "output_type": "stream",
     "text": [
      "\u001b[36m\u001b[1mFetching:\u001b[22m\u001b[39m [>                                        ]  0.0 %\r",
      "    \u001b[36m\u001b[1mFetching:\u001b[22m\u001b[39m [=>                                       ]  1.4 %\r",
      "    \u001b[36m\u001b[1mFetching:\u001b[22m\u001b[39m [==>                                      ]  2.9 %\r",
      "    \u001b[36m\u001b[1mFetching:\u001b[22m\u001b[39m [==>                                      ]  4.3 %\r",
      "    \u001b[36m\u001b[1mFetching:\u001b[22m\u001b[39m [===>                                     ]  5.8 %\r",
      "    \u001b[36m\u001b[1mFetching:\u001b[22m\u001b[39m [===>                                     ]  7.2 %\r",
      "    \u001b[36m\u001b[1mFetching:\u001b[22m\u001b[39m [====>                                    ]  8.7 %\r",
      "    \u001b[36m\u001b[1mFetching:\u001b[22m\u001b[39m [=====>                                   ]  10.1 %\r",
      "    \u001b[36m\u001b[1mFetching:\u001b[22m\u001b[39m [=====>                                   ]  11.6 %\r",
      "    \u001b[36m\u001b[1mFetching:\u001b[22m\u001b[39m [======>                                  ]  13.0 %\r",
      "    \u001b[36m\u001b[1mFetching:\u001b[22m\u001b[39m [======>                                  ]  14.5 %\r",
      "    \u001b[36m\u001b[1mFetching:\u001b[22m\u001b[39m [=======>                                 ]  15.9 %\r",
      "    \u001b[36m\u001b[1mFetching:\u001b[22m\u001b[39m [=======>                                 ]  17.4 %\r",
      "    \u001b[36m\u001b[1mFetching:\u001b[22m\u001b[39m [========>                                ]  18.8 %\r",
      "    \u001b[36m\u001b[1mFetching:\u001b[22m\u001b[39m [=========>                               ]  20.3 %\r",
      "    \u001b[36m\u001b[1mFetching:\u001b[22m\u001b[39m [=========>                               ]  21.7 %\r",
      "    \u001b[36m\u001b[1mFetching:\u001b[22m\u001b[39m [==========>                              ]  23.2 %\r",
      "    \u001b[36m\u001b[1mFetching:\u001b[22m\u001b[39m [==========>                              ]  24.6 %\r",
      "    \u001b[36m\u001b[1mFetching:\u001b[22m\u001b[39m [===========>                             ]  26.1 %\r",
      "    \u001b[36m\u001b[1mFetching:\u001b[22m\u001b[39m [============>                            ]  27.5 %\r",
      "    \u001b[36m\u001b[1mFetching:\u001b[22m\u001b[39m [============>                            ]  29.0 %\r",
      "    \u001b[36m\u001b[1mFetching:\u001b[22m\u001b[39m [=============>                           ]  30.4 %\r",
      "    \u001b[36m\u001b[1mFetching:\u001b[22m\u001b[39m [=============>                           ]  31.9 %\r",
      "    \u001b[36m\u001b[1mFetching:\u001b[22m\u001b[39m [==============>                          ]  33.3 %\r",
      "    \u001b[36m\u001b[1mFetching:\u001b[22m\u001b[39m [==============>                          ]  34.8 %\r",
      "    \u001b[36m\u001b[1mFetching:\u001b[22m\u001b[39m [===============>                         ]  36.2 %\r",
      "    \u001b[36m\u001b[1mFetching:\u001b[22m\u001b[39m [================>                        ]  37.7 %\r",
      "    \u001b[36m\u001b[1mFetching:\u001b[22m\u001b[39m [================>                        ]  39.1 %\r",
      "    \u001b[36m\u001b[1mFetching:\u001b[22m\u001b[39m [=================>                       ]  40.6 %\r",
      "    \u001b[36m\u001b[1mFetching:\u001b[22m\u001b[39m [=================>                       ]  42.0 %\r",
      "    \u001b[36m\u001b[1mFetching:\u001b[22m\u001b[39m [==================>                      ]  43.5 %\r",
      "    \u001b[36m\u001b[1mFetching:\u001b[22m\u001b[39m [==================>                      ]  44.9 %\r",
      "    \u001b[36m\u001b[1mFetching:\u001b[22m\u001b[39m [===================>                     ]  46.4 %\r",
      "    \u001b[36m\u001b[1mFetching:\u001b[22m\u001b[39m [====================>                    ]  47.8 %\r",
      "    \u001b[36m\u001b[1mFetching:\u001b[22m\u001b[39m [====================>                    ]  49.3 %\r",
      "    \u001b[36m\u001b[1mFetching:\u001b[22m\u001b[39m [=====================>                   ]  50.7 %\r",
      "    \u001b[36m\u001b[1mFetching:\u001b[22m\u001b[39m [=====================>                   ]  52.2 %\r",
      "    \u001b[36m\u001b[1mFetching:\u001b[22m\u001b[39m [======================>                  ]  53.6 %\r",
      "    \u001b[36m\u001b[1mFetching:\u001b[22m\u001b[39m [=======================>                 ]  55.1 %\r",
      "    \u001b[36m\u001b[1mFetching:\u001b[22m\u001b[39m [=======================>                 ]  56.5 %\r",
      "    \u001b[36m\u001b[1mFetching:\u001b[22m\u001b[39m [========================>                ]  58.0 %\r",
      "    \u001b[36m\u001b[1mFetching:\u001b[22m\u001b[39m [========================>                ]  59.4 %\r",
      "    \u001b[36m\u001b[1mFetching:\u001b[22m\u001b[39m [=========================>               ]  60.9 %\r",
      "    \u001b[36m\u001b[1mFetching:\u001b[22m\u001b[39m [=========================>               ]  62.3 %\r",
      "    \u001b[36m\u001b[1mFetching:\u001b[22m\u001b[39m [==========================>              ]  63.8 %\r",
      "    \u001b[36m\u001b[1mFetching:\u001b[22m\u001b[39m [===========================>             ]  65.2 %\r",
      "    \u001b[36m\u001b[1mFetching:\u001b[22m\u001b[39m [===========================>             ]  66.7 %\r",
      "    \u001b[36m\u001b[1mFetching:\u001b[22m\u001b[39m [============================>            ]  68.1 %\r",
      "    \u001b[36m\u001b[1mFetching:\u001b[22m\u001b[39m [============================>            ]  69.6 %\r",
      "    \u001b[36m\u001b[1mFetching:\u001b[22m\u001b[39m [=============================>           ]  71.0 %\r",
      "    \u001b[36m\u001b[1mFetching:\u001b[22m\u001b[39m [=============================>           ]  72.5 %\r",
      "    \u001b[36m\u001b[1mFetching:\u001b[22m\u001b[39m [==============================>          ]  73.9 %\r",
      "    \u001b[36m\u001b[1mFetching:\u001b[22m\u001b[39m [===============================>         ]  75.4 %\r",
      "    \u001b[36m\u001b[1mFetching:\u001b[22m\u001b[39m [===============================>         ]  76.8 %\r",
      "    \u001b[36m\u001b[1mFetching:\u001b[22m\u001b[39m [================================>        ]  78.3 %\r",
      "    \u001b[36m\u001b[1mFetching:\u001b[22m\u001b[39m [================================>        ]  79.7 %\r",
      "    \u001b[36m\u001b[1mFetching:\u001b[22m\u001b[39m [=================================>       ]  81.2 %\r",
      "    \u001b[36m\u001b[1mFetching:\u001b[22m\u001b[39m [==================================>      ]  82.6 %\r",
      "    \u001b[36m\u001b[1mFetching:\u001b[22m\u001b[39m [==================================>      ]  84.1 %\r",
      "    \u001b[36m\u001b[1mFetching:\u001b[22m\u001b[39m [===================================>     ]  85.5 %\r",
      "    \u001b[36m\u001b[1mFetching:\u001b[22m\u001b[39m [===================================>     ]  87.0 %\r",
      "    \u001b[36m\u001b[1mFetching:\u001b[22m\u001b[39m [====================================>    ]  88.4 %\r",
      "    \u001b[36m\u001b[1mFetching:\u001b[22m\u001b[39m [====================================>    ]  89.9 %\r",
      "    \u001b[36m\u001b[1mFetching:\u001b[22m\u001b[39m [=====================================>   ]  91.3 %\r",
      "    \u001b[36m\u001b[1mFetching:\u001b[22m\u001b[39m [======================================>  ]  92.8 %\r",
      "    \u001b[36m\u001b[1mFetching:\u001b[22m\u001b[39m [======================================>  ]  94.2 %\r",
      "    \u001b[36m\u001b[1mFetching:\u001b[22m\u001b[39m [=======================================> ]  95.7 %\r",
      "    \u001b[36m\u001b[1mFetching:\u001b[22m\u001b[39m [=======================================> ]  97.1 %\r",
      "    \u001b[36m\u001b[1mFetching:\u001b[22m\u001b[39m [========================================>]  98.6 %\r",
      "    \u001b[36m\u001b[1mFetching:\u001b[22m\u001b[39m [========================================>]  100.0 %\r",
      "\u001b[2K\u001b[?25h"
     ]
    },
    {
     "name": "stderr",
     "output_type": "stream",
     "text": [
      "\u001b[32m\u001b[1m  Resolving\u001b[22m\u001b[39m package versions...\n",
      "\u001b[32m\u001b[1mNo Changes\u001b[22m\u001b[39m to `~/.julia/environments/v1.5/Project.toml`\n",
      "\u001b[32m\u001b[1mNo Changes\u001b[22m\u001b[39m to `~/.julia/environments/v1.5/Manifest.toml`\n"
     ]
    }
   ],
   "source": [
    "using Pkg\n",
    "Pkg.add([\n",
    "        \"BenchmarkTools\",\n",
    "        \"PyPlot\",\n",
    "])"
   ]
  },
  {
   "cell_type": "markdown",
   "metadata": {},
   "source": [
    "## 1. The basics"
   ]
  },
  {
   "cell_type": "markdown",
   "metadata": {},
   "source": [
    "### Variables and elementary operations"
   ]
  },
  {
   "cell_type": "markdown",
   "metadata": {},
   "source": [
    "Variable assignment works as one would expect. Note that you can use LaTeX symbols by typing (for instance) \"\\beta\" + `Tab` in the REPL or a Jupyter cell. This also works for indices when typing \"u\\_1\" + `Tab`."
   ]
  },
  {
   "cell_type": "code",
   "execution_count": 3,
   "metadata": {
    "ExecuteTime": {
     "end_time": "2020-11-04T20:26:32.973000+01:00",
     "start_time": "2020-11-04T19:26:21.082Z"
    }
   },
   "outputs": [
    {
     "data": {
      "text/plain": [
       "10"
      ]
     },
     "execution_count": 3,
     "metadata": {},
     "output_type": "execute_result"
    }
   ],
   "source": [
    "x = 1\n",
    "ε = 0.1\n",
    "u₁ = 10"
   ]
  },
  {
   "cell_type": "markdown",
   "metadata": {},
   "source": [
    "Elementary operations are well summed up in https://juliadocs.github.io/Julia-Cheat-Sheet/. When comparing to Python, the main changes are boolean operators.."
   ]
  },
  {
   "cell_type": "markdown",
   "metadata": {},
   "source": [
    "### Types"
   ]
  },
  {
   "cell_type": "markdown",
   "metadata": {},
   "source": [
    "Like in Python, each variable in Julia has a type."
   ]
  },
  {
   "cell_type": "code",
   "execution_count": 4,
   "metadata": {
    "ExecuteTime": {
     "end_time": "2020-11-04T20:26:33.374000+01:00",
     "start_time": "2020-11-04T19:26:21.361Z"
    }
   },
   "outputs": [
    {
     "data": {
      "text/plain": [
       "(Int64, Float64, Char, String)"
      ]
     },
     "execution_count": 4,
     "metadata": {},
     "output_type": "execute_result"
    }
   ],
   "source": [
    "a = 1\n",
    "b = 1.\n",
    "c = '1'\n",
    "d = \"1\"\n",
    "typeof(a), typeof(b), typeof(c), typeof(d)"
   ]
  },
  {
   "cell_type": "markdown",
   "metadata": {},
   "source": [
    "Julia's typing system is dynamic, i.e. variables can change types, but performance can be increased by avoiding such changes and specifying the types when they are known in advance."
   ]
  },
  {
   "cell_type": "markdown",
   "metadata": {},
   "source": [
    "The equivalent of Pythons's `None` in Julia is called `nothing`."
   ]
  },
  {
   "cell_type": "markdown",
   "metadata": {},
   "source": [
    "### Functions"
   ]
  },
  {
   "cell_type": "markdown",
   "metadata": {},
   "source": [
    "The first function you need to master is for printing:"
   ]
  },
  {
   "cell_type": "code",
   "execution_count": 5,
   "metadata": {
    "ExecuteTime": {
     "end_time": "2020-11-04T20:26:33.389000+01:00",
     "start_time": "2020-11-04T19:26:21.808Z"
    }
   },
   "outputs": [
    {
     "name": "stdout",
     "output_type": "stream",
     "text": [
      "Hello world!\n"
     ]
    }
   ],
   "source": [
    "println(\"Hello world!\")"
   ]
  },
  {
   "cell_type": "markdown",
   "metadata": {},
   "source": [
    "More generally, a function is defined with the following syntax:"
   ]
  },
  {
   "cell_type": "code",
   "execution_count": 6,
   "metadata": {
    "ExecuteTime": {
     "end_time": "2020-11-04T20:26:33.659000+01:00",
     "start_time": "2020-11-04T19:26:21.925Z"
    }
   },
   "outputs": [
    {
     "data": {
      "text/plain": [
       "addition (generic function with 1 method)"
      ]
     },
     "execution_count": 6,
     "metadata": {},
     "output_type": "execute_result"
    }
   ],
   "source": [
    "function addition(a, b)\n",
    "    println(\"I am adding stuff\")\n",
    "    return a + b\n",
    "end"
   ]
  },
  {
   "cell_type": "markdown",
   "metadata": {},
   "source": [
    "If we want, we can specify the types of the inputs and output:"
   ]
  },
  {
   "cell_type": "code",
   "execution_count": 7,
   "metadata": {
    "ExecuteTime": {
     "end_time": "2020-11-04T20:26:33.660000+01:00",
     "start_time": "2020-11-04T19:26:22.046Z"
    }
   },
   "outputs": [
    {
     "data": {
      "text/plain": [
       "addition (generic function with 2 methods)"
      ]
     },
     "execution_count": 7,
     "metadata": {},
     "output_type": "execute_result"
    }
   ],
   "source": [
    "function addition(a::Int, b::Int)::Int\n",
    "    println(\"I am adding integers\")\n",
    "    return a + b\n",
    "end"
   ]
  },
  {
   "cell_type": "markdown",
   "metadata": {},
   "source": [
    "Note that there is still only one function `addition`, but it now has two \"methods\": one for integers, and one more generic."
   ]
  },
  {
   "cell_type": "code",
   "execution_count": 8,
   "metadata": {
    "ExecuteTime": {
     "end_time": "2020-11-04T20:26:34.258000+01:00",
     "start_time": "2020-11-04T19:26:22.197Z"
    }
   },
   "outputs": [
    {
     "data": {
      "text/html": [
       "# 2 methods for generic function <b>addition</b>:<ul><li> addition(a::<b>Int64</b>, b::<b>Int64</b>) in Main at In[7]:1</li> <li> addition(a, b) in Main at In[6]:1</li> </ul>"
      ],
      "text/plain": [
       "# 2 methods for generic function \"addition\":\n",
       "[1] addition(a::Int64, b::Int64) in Main at In[7]:1\n",
       "[2] addition(a, b) in Main at In[6]:1"
      ]
     },
     "execution_count": 8,
     "metadata": {},
     "output_type": "execute_result"
    }
   ],
   "source": [
    "methods(addition)"
   ]
  },
  {
   "cell_type": "markdown",
   "metadata": {},
   "source": [
    "This is linked to a key feature of Julia called *multiple dispatch*: the program will decide at runtime which function to apply depending on the type of the arguments."
   ]
  },
  {
   "cell_type": "code",
   "execution_count": 9,
   "metadata": {
    "ExecuteTime": {
     "end_time": "2020-11-04T20:26:34.262000+01:00",
     "start_time": "2020-11-04T19:26:22.350Z"
    }
   },
   "outputs": [
    {
     "name": "stdout",
     "output_type": "stream",
     "text": [
      "I am adding integers\n"
     ]
    },
    {
     "data": {
      "text/plain": [
       "3"
      ]
     },
     "execution_count": 9,
     "metadata": {},
     "output_type": "execute_result"
    }
   ],
   "source": [
    "addition(1, 2)"
   ]
  },
  {
   "cell_type": "code",
   "execution_count": 10,
   "metadata": {
    "ExecuteTime": {
     "end_time": "2020-11-04T20:26:34.467000+01:00",
     "start_time": "2020-11-04T19:26:22.416Z"
    }
   },
   "outputs": [
    {
     "name": "stdout",
     "output_type": "stream",
     "text": [
      "I am adding stuff\n"
     ]
    },
    {
     "data": {
      "text/plain": [
       "1.5"
      ]
     },
     "execution_count": 10,
     "metadata": {},
     "output_type": "execute_result"
    }
   ],
   "source": [
    "addition(1, 0.5)"
   ]
  },
  {
   "cell_type": "markdown",
   "metadata": {},
   "source": [
    "### Arrays"
   ]
  },
  {
   "cell_type": "markdown",
   "metadata": {},
   "source": [
    "Arrays can be created and extended just like in Python, using square brackets:"
   ]
  },
  {
   "cell_type": "code",
   "execution_count": 11,
   "metadata": {
    "ExecuteTime": {
     "end_time": "2020-11-04T20:26:34.639000+01:00",
     "start_time": "2020-11-04T19:26:22.708Z"
    }
   },
   "outputs": [
    {
     "name": "stdout",
     "output_type": "stream",
     "text": [
      "[3, 2, 1]\n"
     ]
    }
   ],
   "source": [
    "a = [3, 2]\n",
    "push!(a, 1)\n",
    "println(a)"
   ]
  },
  {
   "cell_type": "markdown",
   "metadata": {},
   "source": [
    "However, if we know the type and size of the array in advance, it is better to allocate the memory first (with the `undef` object) and then fill it:"
   ]
  },
  {
   "cell_type": "code",
   "execution_count": 12,
   "metadata": {
    "ExecuteTime": {
     "end_time": "2020-11-04T20:26:34.640000+01:00",
     "start_time": "2020-11-04T19:26:22.868Z"
    }
   },
   "outputs": [
    {
     "name": "stdout",
     "output_type": "stream",
     "text": [
      "[3, 2, 1]\n"
     ]
    }
   ],
   "source": [
    "a = Array{Int, 1}(undef, 3)\n",
    "a[1], a[2], a[3] = 3, 2, 1\n",
    "println(a)"
   ]
  },
  {
   "cell_type": "markdown",
   "metadata": {},
   "source": [
    "The syntax `Array{T, d}` denotes an array with element type `T` and `d` dimensions (or axes). For $d=1$ and $d=2$ we have shortcuts:"
   ]
  },
  {
   "cell_type": "code",
   "execution_count": 13,
   "metadata": {
    "ExecuteTime": {
     "end_time": "2020-11-04T20:26:35.565000+01:00",
     "start_time": "2020-11-04T19:26:23.026Z"
    }
   },
   "outputs": [
    {
     "data": {
      "text/plain": [
       "3×2 Array{Float64,2}:\n",
       " 6.94644e-310  6.9464e-310\n",
       " 6.94643e-310  6.9464e-310\n",
       " 6.9464e-310   6.9464e-310"
      ]
     },
     "execution_count": 13,
     "metadata": {},
     "output_type": "execute_result"
    }
   ],
   "source": [
    "v = Vector{Float64}(undef, 2)\n",
    "M = Matrix{Float64}(undef, 3, 2)"
   ]
  },
  {
   "cell_type": "markdown",
   "metadata": {},
   "source": [
    "These strange numbers are here because without allocation, the matrix still contains whatever was in memory there before."
   ]
  },
  {
   "cell_type": "markdown",
   "metadata": {},
   "source": [
    "Vectorizing a function `f` in Julia is done by adding a dot to its name: `f.`."
   ]
  },
  {
   "cell_type": "code",
   "execution_count": 14,
   "metadata": {
    "ExecuteTime": {
     "end_time": "2020-11-04T20:26:35.651000+01:00",
     "start_time": "2020-11-04T19:26:23.196Z"
    }
   },
   "outputs": [
    {
     "data": {
      "text/plain": [
       "square (generic function with 1 method)"
      ]
     },
     "execution_count": 14,
     "metadata": {},
     "output_type": "execute_result"
    }
   ],
   "source": [
    "function square(n::Int)::Int\n",
    "    return n^2\n",
    "end"
   ]
  },
  {
   "cell_type": "code",
   "execution_count": 15,
   "metadata": {
    "ExecuteTime": {
     "end_time": "2020-11-04T20:26:36.443000+01:00",
     "start_time": "2020-11-04T19:26:23.257Z"
    }
   },
   "outputs": [
    {
     "data": {
      "text/plain": [
       "3-element Array{Int64,1}:\n",
       " 9\n",
       " 4\n",
       " 1"
      ]
     },
     "execution_count": 15,
     "metadata": {},
     "output_type": "execute_result"
    }
   ],
   "source": [
    "square.(a)"
   ]
  },
  {
   "cell_type": "markdown",
   "metadata": {},
   "source": [
    "The same goes for elementary operators, except the dot comes before:"
   ]
  },
  {
   "cell_type": "code",
   "execution_count": 16,
   "metadata": {
    "ExecuteTime": {
     "end_time": "2020-11-04T20:26:36.454000+01:00",
     "start_time": "2020-11-04T19:26:23.378Z"
    }
   },
   "outputs": [
    {
     "data": {
      "text/plain": [
       "3×3 Array{Float64,2}:\n",
       " 1.0  1.0  1.0\n",
       " 1.0  1.0  1.0\n",
       " 1.0  1.0  1.0"
      ]
     },
     "execution_count": 16,
     "metadata": {},
     "output_type": "execute_result"
    }
   ],
   "source": [
    "M = ones(Float64, 3, 3)"
   ]
  },
  {
   "cell_type": "code",
   "execution_count": 17,
   "metadata": {
    "ExecuteTime": {
     "end_time": "2020-11-04T20:26:37.370000+01:00",
     "start_time": "2020-11-04T19:26:23.462Z"
    }
   },
   "outputs": [
    {
     "data": {
      "text/plain": [
       "3×3 Array{Float64,2}:\n",
       " 3.0  3.0  3.0\n",
       " 3.0  3.0  3.0\n",
       " 3.0  3.0  3.0"
      ]
     },
     "execution_count": 17,
     "metadata": {},
     "output_type": "execute_result"
    }
   ],
   "source": [
    "M^2"
   ]
  },
  {
   "cell_type": "code",
   "execution_count": 18,
   "metadata": {
    "ExecuteTime": {
     "end_time": "2020-11-04T20:26:37.442000+01:00",
     "start_time": "2020-11-04T19:26:23.499Z"
    }
   },
   "outputs": [
    {
     "data": {
      "text/plain": [
       "3×3 Array{Float64,2}:\n",
       " 1.0  1.0  1.0\n",
       " 1.0  1.0  1.0\n",
       " 1.0  1.0  1.0"
      ]
     },
     "execution_count": 18,
     "metadata": {},
     "output_type": "execute_result"
    }
   ],
   "source": [
    "M.^2"
   ]
  },
  {
   "cell_type": "code",
   "execution_count": 19,
   "metadata": {
    "ExecuteTime": {
     "end_time": "2020-11-04T20:26:37.668000+01:00",
     "start_time": "2020-11-04T19:26:23.562Z"
    }
   },
   "outputs": [
    {
     "data": {
      "text/plain": [
       "false"
      ]
     },
     "execution_count": 19,
     "metadata": {},
     "output_type": "execute_result"
    }
   ],
   "source": [
    "M^2 == M"
   ]
  },
  {
   "cell_type": "code",
   "execution_count": 20,
   "metadata": {
    "ExecuteTime": {
     "end_time": "2020-11-04T20:26:38.797000+01:00",
     "start_time": "2020-11-04T19:26:23.638Z"
    }
   },
   "outputs": [
    {
     "data": {
      "text/plain": [
       "3×3 BitArray{2}:\n",
       " 0  0  0\n",
       " 0  0  0\n",
       " 0  0  0"
      ]
     },
     "execution_count": 20,
     "metadata": {},
     "output_type": "execute_result"
    }
   ],
   "source": [
    "M^2 .== M"
   ]
  },
  {
   "cell_type": "markdown",
   "metadata": {},
   "source": [
    "### Conditions and loops"
   ]
  },
  {
   "cell_type": "markdown",
   "metadata": {},
   "source": [
    "If / then / else block:"
   ]
  },
  {
   "cell_type": "code",
   "execution_count": 21,
   "metadata": {
    "ExecuteTime": {
     "end_time": "2020-11-04T20:26:38.892000+01:00",
     "start_time": "2020-11-04T19:26:23.934Z"
    }
   },
   "outputs": [
    {
     "data": {
      "text/plain": [
       "test_sign (generic function with 1 method)"
      ]
     },
     "execution_count": 21,
     "metadata": {},
     "output_type": "execute_result"
    }
   ],
   "source": [
    "function test_sign(n::Int)::String\n",
    "    if n > 0\n",
    "        return \"strictly positive\"\n",
    "    elseif n < 0\n",
    "        return \"strictly negative\"\n",
    "    else\n",
    "        return \"zero\"\n",
    "    end\n",
    "end"
   ]
  },
  {
   "cell_type": "markdown",
   "metadata": {},
   "source": [
    "For loop:"
   ]
  },
  {
   "cell_type": "code",
   "execution_count": 22,
   "metadata": {
    "ExecuteTime": {
     "end_time": "2020-11-04T20:26:38.974000+01:00",
     "start_time": "2020-11-04T19:26:24.077Z"
    }
   },
   "outputs": [
    {
     "data": {
      "text/plain": [
       "count_to (generic function with 1 method)"
      ]
     },
     "execution_count": 22,
     "metadata": {},
     "output_type": "execute_result"
    }
   ],
   "source": [
    "function count_to(n::Int)::Nothing\n",
    "    for i = 1:n\n",
    "        println(i)\n",
    "    end\n",
    "end"
   ]
  },
  {
   "cell_type": "markdown",
   "metadata": {},
   "source": [
    "This allows us to define arrays by comprehension:"
   ]
  },
  {
   "cell_type": "code",
   "execution_count": 23,
   "metadata": {
    "ExecuteTime": {
     "end_time": "2020-11-04T20:26:38.999000+01:00",
     "start_time": "2020-11-04T19:26:24.232Z"
    }
   },
   "outputs": [
    {
     "data": {
      "text/plain": [
       "11-element Array{Int64,1}:\n",
       "    1\n",
       "    2\n",
       "    4\n",
       "    8\n",
       "   16\n",
       "   32\n",
       "   64\n",
       "  128\n",
       "  256\n",
       "  512\n",
       " 1024"
      ]
     },
     "execution_count": 23,
     "metadata": {},
     "output_type": "execute_result"
    }
   ],
   "source": [
    "powers = [2^k for k = 0:10]"
   ]
  },
  {
   "cell_type": "markdown",
   "metadata": {},
   "source": [
    "While loop:"
   ]
  },
  {
   "cell_type": "code",
   "execution_count": 24,
   "metadata": {
    "ExecuteTime": {
     "end_time": "2020-11-04T20:26:39.078000+01:00",
     "start_time": "2020-11-04T19:26:24.389Z"
    }
   },
   "outputs": [
    {
     "data": {
      "text/plain": [
       "fibonacci (generic function with 1 method)"
      ]
     },
     "execution_count": 24,
     "metadata": {},
     "output_type": "execute_result"
    }
   ],
   "source": [
    "function fibonacci(n::Int)::Int\n",
    "    a, b = 0, 1\n",
    "    for k = 1:n\n",
    "        a, b = b, a + b\n",
    "    end\n",
    "    return a\n",
    "end"
   ]
  },
  {
   "cell_type": "markdown",
   "metadata": {},
   "source": [
    "### Structures"
   ]
  },
  {
   "cell_type": "markdown",
   "metadata": {},
   "source": [
    "Julia's notion of objects boils down to nothing more than a tuple with named components. It is defined as follows:"
   ]
  },
  {
   "cell_type": "code",
   "execution_count": 25,
   "metadata": {
    "ExecuteTime": {
     "end_time": "2020-11-04T20:26:39.080000+01:00",
     "start_time": "2020-11-04T19:26:24.635Z"
    }
   },
   "outputs": [],
   "source": [
    "struct Point3D\n",
    "    name::String\n",
    "    x::Float64\n",
    "    y::Float64\n",
    "    z::Float64\n",
    "end"
   ]
  },
  {
   "cell_type": "markdown",
   "metadata": {},
   "source": [
    "To create an object, just apply its name as a function:"
   ]
  },
  {
   "cell_type": "code",
   "execution_count": 26,
   "metadata": {
    "ExecuteTime": {
     "end_time": "2020-11-04T20:26:39.308000+01:00",
     "start_time": "2020-11-04T19:26:24.776Z"
    }
   },
   "outputs": [
    {
     "data": {
      "text/plain": [
       "Point3D(\"HOME\", 1.0, 7.0, -13.0)"
      ]
     },
     "execution_count": 26,
     "metadata": {},
     "output_type": "execute_result"
    }
   ],
   "source": [
    "p = Point3D(\"HOME\", 1., 7., -13.)"
   ]
  },
  {
   "cell_type": "markdown",
   "metadata": {},
   "source": [
    "The structures themselves contain no methods. However, we can define some by writing functions that take an input with the type we defined:"
   ]
  },
  {
   "cell_type": "code",
   "execution_count": 27,
   "metadata": {
    "ExecuteTime": {
     "end_time": "2020-11-04T20:26:39.384000+01:00",
     "start_time": "2020-11-04T19:26:24.930Z"
    }
   },
   "outputs": [
    {
     "data": {
      "text/plain": [
       "display (generic function with 1 method)"
      ]
     },
     "execution_count": 27,
     "metadata": {},
     "output_type": "execute_result"
    }
   ],
   "source": [
    "function display(p::Point3D)\n",
    "    name, x, y, z = p.name, p.x, p.y, p.z\n",
    "    println(\"I am the point $name with coordinates ($x, $y, $z)\")\n",
    "end"
   ]
  },
  {
   "cell_type": "code",
   "execution_count": 28,
   "metadata": {
    "ExecuteTime": {
     "end_time": "2020-11-04T20:26:39.392000+01:00",
     "start_time": "2020-11-04T19:26:25.016Z"
    }
   },
   "outputs": [
    {
     "name": "stdout",
     "output_type": "stream",
     "text": [
      "I am the point HOME with coordinates (1.0, 7.0, -13.0)\n"
     ]
    }
   ],
   "source": [
    "display(p)"
   ]
  },
  {
   "cell_type": "markdown",
   "metadata": {},
   "source": [
    "### Plots"
   ]
  },
  {
   "cell_type": "markdown",
   "metadata": {},
   "source": [
    "Plots can be generated with a Julia version of `matplotlib.pyplot`:"
   ]
  },
  {
   "cell_type": "code",
   "execution_count": 29,
   "metadata": {
    "ExecuteTime": {
     "end_time": "2020-11-04T20:26:43.711000+01:00",
     "start_time": "2020-11-04T19:26:25.272Z"
    }
   },
   "outputs": [
    {
     "data": {
      "text/plain": [
       "false"
      ]
     },
     "execution_count": 29,
     "metadata": {},
     "output_type": "execute_result"
    }
   ],
   "source": [
    "using PyPlot\n",
    "pygui(false)"
   ]
  },
  {
   "cell_type": "code",
   "execution_count": 30,
   "metadata": {
    "ExecuteTime": {
     "end_time": "2020-11-04T20:26:46.640000+01:00",
     "start_time": "2020-11-04T19:26:25.322Z"
    }
   },
   "outputs": [
    {
     "data": {
      "image/png": "[encoded data removed]",
      "text/plain": [
       "Figure(PyObject <Figure size 640x480 with 1 Axes>)"
      ]
     },
     "metadata": {},
     "output_type": "display_data"
    }
   ],
   "source": [
    "x = collect(1:0.2:10)\n",
    "y = sin.(x)\n",
    "plot(x, y, color=\"blue\", label=\"curve\")\n",
    "scatter(x, y, color=\"red\", label=\"points\")\n",
    "xlabel(\"x axis\")\n",
    "ylabel(\"y axis\")\n",
    "legend()\n",
    "title(\"The sine function\")\n",
    "show()"
   ]
  },
  {
   "cell_type": "markdown",
   "metadata": {},
   "source": [
    "### Miscellaneous"
   ]
  },
  {
   "cell_type": "markdown",
   "metadata": {},
   "source": [
    "A package can be imported with the keyword `using ...`, which makes all of its functions available without prefix (similar to the Python code `from ... import *`). If you want to keep prefixes, use `import ...` instead."
   ]
  },
  {
   "cell_type": "markdown",
   "metadata": {},
   "source": [
    "Exceptions can be thrown using a simple function:"
   ]
  },
  {
   "cell_type": "code",
   "execution_count": 31,
   "metadata": {
    "ExecuteTime": {
     "end_time": "2020-11-04T20:26:47.214000+01:00",
     "start_time": "2020-11-04T19:26:25.623Z"
    }
   },
   "outputs": [
    {
     "ename": "LoadError",
     "evalue": "You made a serious mistake",
     "output_type": "error",
     "traceback": [
      "You made a serious mistake",
      "",
      "Stacktrace:",
      " [1] error(::String) at ./error.jl:33",
      " [2] top-level scope at In[31]:1",
      " [3] include_string(::Function, ::Module, ::String, ::String) at ./loading.jl:1091",
      " [4] execute_code(::String, ::String) at /home/guillaume/.julia/packages/IJulia/a1SNk/src/execute_request.jl:27",
      " [5] execute_request(::ZMQ.Socket, ::IJulia.Msg) at /home/guillaume/.julia/packages/IJulia/a1SNk/src/execute_request.jl:86",
      " [6] #invokelatest#1 at ./essentials.jl:710 [inlined]",
      " [7] invokelatest at ./essentials.jl:709 [inlined]",
      " [8] eventloop(::ZMQ.Socket) at /home/guillaume/.julia/packages/IJulia/a1SNk/src/eventloop.jl:8",
      " [9] (::IJulia.var\"#15#18\")() at ./task.jl:356"
     ]
    }
   ],
   "source": [
    "error(\"You made a serious mistake\")"
   ]
  },
  {
   "cell_type": "markdown",
   "metadata": {},
   "source": [
    "The execution time of a function can be measured as follows:"
   ]
  },
  {
   "cell_type": "code",
   "execution_count": 32,
   "metadata": {
    "ExecuteTime": {
     "end_time": "2020-11-04T20:26:48.179000+01:00",
     "start_time": "2020-11-04T19:26:25.750Z"
    }
   },
   "outputs": [],
   "source": [
    "using BenchmarkTools"
   ]
  },
  {
   "cell_type": "code",
   "execution_count": 33,
   "metadata": {
    "ExecuteTime": {
     "end_time": "2020-11-04T20:26:51.115000+01:00",
     "start_time": "2020-11-04T19:26:25.801Z"
    }
   },
   "outputs": [
    {
     "data": {
      "text/plain": [
       "2.462836185819071e-7"
      ]
     },
     "execution_count": 33,
     "metadata": {},
     "output_type": "execute_result"
    }
   ],
   "source": [
    "Δt = @belapsed (M = rand(5, 5); N = M^2)"
   ]
  },
  {
   "cell_type": "markdown",
   "metadata": {},
   "source": [
    "## 2. Linear recurrent sequences"
   ]
  },
  {
   "cell_type": "markdown",
   "metadata": {},
   "source": [
    "In this problem, we will see different ways to compute the terms of the sequence defined recursively by:\n",
    "\n",
    "\\begin{align}\n",
    "    x_n & = w_1 x_{n-1} + ... + w_d x_{n-d}\n",
    "\\end{align}\n",
    "\n",
    "and whose initial values are\n",
    "\n",
    "\\begin{align}\n",
    "    x_1 = y_1, ~ ..., ~ x_d = y_d\n",
    "\\end{align}\n",
    "\n",
    "As you have surely noticed, Jupyter notebooks can also accomodate $\\LaTeX$ code."
   ]
  },
  {
   "cell_type": "markdown",
   "metadata": {},
   "source": [
    "### 2.1 Recursive computation"
   ]
  },
  {
   "cell_type": "markdown",
   "metadata": {},
   "source": [
    "Implement a function `x_rec(w::Vector{Float64}, y::Vector{Float64}, n::Int)::Float64` computing $x_n$ recursively.\n",
    "\n",
    "Do not use it for $n > 30$ or your computer will explode."
   ]
  },
  {
   "cell_type": "code",
   "execution_count": 34,
   "metadata": {
    "ExecuteTime": {
     "end_time": "2020-11-04T20:26:51.730000+01:00",
     "start_time": "2020-11-04T19:26:26.134Z"
    }
   },
   "outputs": [
    {
     "data": {
      "text/plain": [
       "x_rec (generic function with 1 method)"
      ]
     },
     "execution_count": 34,
     "metadata": {},
     "output_type": "execute_result"
    }
   ],
   "source": [
    "function x_rec(w::Vector{Float64}, y::Vector{Float64}, n::Int)::Float64\n",
    "    if n > 30\n",
    "        @warn \"n=$n is too large for recursive computation: returning NaN\"\n",
    "        return NaN\n",
    "    end\n",
    "    d = length(w)\n",
    "    if n <= d\n",
    "        return y[n]\n",
    "    else\n",
    "        return sum(w[k] * x_rec(w, y, n-k) for k = 1:d)\n",
    "    end\n",
    "end"
   ]
  },
  {
   "cell_type": "code",
   "execution_count": 35,
   "metadata": {
    "ExecuteTime": {
     "end_time": "2020-11-04T20:26:51.850000+01:00",
     "start_time": "2020-11-04T19:26:26.203Z"
    }
   },
   "outputs": [],
   "source": [
    "@assert x_rec([1., 1.], [1., 1.], 10) ≈ 55."
   ]
  },
  {
   "cell_type": "markdown",
   "metadata": {},
   "source": [
    "Implement a function `x_loop` computing $x_n$ using a loop."
   ]
  },
  {
   "cell_type": "code",
   "execution_count": 36,
   "metadata": {
    "ExecuteTime": {
     "end_time": "2020-11-04T20:26:51.921000+01:00",
     "start_time": "2020-11-04T19:26:26.327Z"
    }
   },
   "outputs": [
    {
     "data": {
      "text/plain": [
       "x_loop (generic function with 1 method)"
      ]
     },
     "execution_count": 36,
     "metadata": {},
     "output_type": "execute_result"
    }
   ],
   "source": [
    "function x_loop(w::Vector{Float64}, y::Vector{Float64}, n::Int)::Float64\n",
    "    x = Vector{Float64}(undef, n)\n",
    "    d = length(w)\n",
    "    x[1:min(d, n)] .= y[1:min(d, n)]\n",
    "    for k = d+1:n\n",
    "        x[k] = sum(w[i] * x[k-i] for i = 1:d)\n",
    "    end\n",
    "    return x[n]\n",
    "end"
   ]
  },
  {
   "cell_type": "code",
   "execution_count": 37,
   "metadata": {
    "ExecuteTime": {
     "end_time": "2020-11-04T20:26:52.039000+01:00",
     "start_time": "2020-11-04T19:26:26.378Z"
    }
   },
   "outputs": [],
   "source": [
    "@assert x_loop([1., 1.], [1., 1.], 10) ≈ 55."
   ]
  },
  {
   "cell_type": "markdown",
   "metadata": {},
   "source": [
    "Implement a function `build_M` constructing the matrix\n",
    "$M = \\begin{pmatrix}\n",
    "0 & 1 & 0 & \\cdots & & 0 \\\\\n",
    "0 & 0 & 1 & 0 & \\cdots & 0 \\\\\n",
    "  & & \\ddots & \\ddots & \\ddots & \\vdots\\\\\n",
    "\\vdots & & &  0 & 1 & 0 \\\\\n",
    "& & & & 0 & 1 \\\\\n",
    "w_1 & w_2 &  & \\cdots &  & w_d\n",
    "\\end{pmatrix}$."
   ]
  },
  {
   "cell_type": "code",
   "execution_count": 38,
   "metadata": {
    "ExecuteTime": {
     "end_time": "2020-11-04T20:26:52.108000+01:00",
     "start_time": "2020-11-04T19:26:26.499Z"
    }
   },
   "outputs": [
    {
     "data": {
      "text/plain": [
       "build_M (generic function with 1 method)"
      ]
     },
     "execution_count": 38,
     "metadata": {},
     "output_type": "execute_result"
    }
   ],
   "source": [
    "function build_M(w::Vector{Float64})::Matrix{Float64}\n",
    "     d = length(w)\n",
    "    M = zeros(Float64, d, d)\n",
    "    for i = 1:d-1\n",
    "        M[i, i+1] = 1.\n",
    "    end\n",
    "    M[end, :] .= w\n",
    "    return M\n",
    "end"
   ]
  },
  {
   "cell_type": "code",
   "execution_count": 39,
   "metadata": {
    "ExecuteTime": {
     "end_time": "2020-11-04T20:26:52.374000+01:00",
     "start_time": "2020-11-04T19:26:26.558Z"
    }
   },
   "outputs": [],
   "source": [
    "@assert build_M([1., 2., 3.]) ≈ [0. 1. 0. ; 0. 0. 1. ; 1. 2. 3.]"
   ]
  },
  {
   "cell_type": "markdown",
   "metadata": {},
   "source": [
    "Implement a function `x_pow` computing $x_n$ using the powers of $M$."
   ]
  },
  {
   "cell_type": "code",
   "execution_count": 40,
   "metadata": {
    "ExecuteTime": {
     "end_time": "2020-11-04T20:26:52.446000+01:00",
     "start_time": "2020-11-04T19:26:26.714Z"
    }
   },
   "outputs": [
    {
     "data": {
      "text/plain": [
       "x_pow (generic function with 1 method)"
      ]
     },
     "execution_count": 40,
     "metadata": {},
     "output_type": "execute_result"
    }
   ],
   "source": [
    "function x_pow(w::Vector{Float64}, y::Vector{Float64}, n::Int)::Float64\n",
    "    M = build_M(w)\n",
    "    return (M^(n-1) * y)[1]\n",
    "end"
   ]
  },
  {
   "cell_type": "code",
   "execution_count": 41,
   "metadata": {
    "ExecuteTime": {
     "end_time": "2020-11-04T20:26:52.587000+01:00",
     "start_time": "2020-11-04T19:26:26.790Z"
    }
   },
   "outputs": [],
   "source": [
    "@assert x_pow([1., 1.], [1., 1.], 10) ≈ 55."
   ]
  },
  {
   "cell_type": "markdown",
   "metadata": {},
   "source": [
    "Implement a function `pow_eigen` computing the powers of a matrix using its eigendecomposition, assuming it exists."
   ]
  },
  {
   "cell_type": "code",
   "execution_count": 42,
   "metadata": {
    "ExecuteTime": {
     "end_time": "2020-11-04T20:26:52.588000+01:00",
     "start_time": "2020-11-04T19:26:26.910Z"
    }
   },
   "outputs": [],
   "source": [
    "using LinearAlgebra"
   ]
  },
  {
   "cell_type": "code",
   "execution_count": 43,
   "metadata": {
    "ExecuteTime": {
     "end_time": "2020-11-04T20:26:52.661000+01:00",
     "start_time": "2020-11-04T19:26:26.962Z"
    }
   },
   "outputs": [
    {
     "data": {
      "text/plain": [
       "pow_eigen (generic function with 1 method)"
      ]
     },
     "execution_count": 43,
     "metadata": {},
     "output_type": "execute_result"
    }
   ],
   "source": [
    "function pow_eigen(M::Matrix{Float64}, n::Int)::Matrix{Float64}\n",
    "    factorization = eigen(M)\n",
    "    λ = factorization.values\n",
    "    P = factorization.vectors\n",
    "    return real.(P * Diagonal(λ .^n) * inv(P))\n",
    "end"
   ]
  },
  {
   "cell_type": "code",
   "execution_count": 44,
   "metadata": {
    "ExecuteTime": {
     "end_time": "2020-11-04T20:26:53.518000+01:00",
     "start_time": "2020-11-04T19:26:27.015Z"
    }
   },
   "outputs": [],
   "source": [
    "randM = rand(3, 3)\n",
    "@assert pow_eigen(randM + randM', 5) ≈ (randM + randM')^5"
   ]
  },
  {
   "cell_type": "markdown",
   "metadata": {},
   "source": [
    "Implement a function `x_eigen` computing $x_n$ using the eigendecomposition of $M$."
   ]
  },
  {
   "cell_type": "code",
   "execution_count": 45,
   "metadata": {
    "ExecuteTime": {
     "end_time": "2020-11-04T20:26:53.588000+01:00",
     "start_time": "2020-11-04T19:26:27.142Z"
    }
   },
   "outputs": [
    {
     "data": {
      "text/plain": [
       "x_eigen (generic function with 1 method)"
      ]
     },
     "execution_count": 45,
     "metadata": {},
     "output_type": "execute_result"
    }
   ],
   "source": [
    "function x_eigen(w::Vector{Float64}, y::Vector{Float64}, n::Int)::Float64\n",
    "    M = build_M(w)\n",
    "    return (pow_eigen(M, n-1) * y)[1]\n",
    "end"
   ]
  },
  {
   "cell_type": "code",
   "execution_count": 46,
   "metadata": {
    "ExecuteTime": {
     "end_time": "2020-11-04T20:26:53.594000+01:00",
     "start_time": "2020-11-04T19:26:27.197Z"
    }
   },
   "outputs": [],
   "source": [
    "@assert x_eigen([1., 1.], [1., 1.], 10) ≈ 55."
   ]
  },
  {
   "cell_type": "markdown",
   "metadata": {},
   "source": [
    "Compare the execution times of all your functions for various values of $n$ and $d$. Plot the results and conclude on the fastest approach."
   ]
  },
  {
   "cell_type": "code",
   "execution_count": 47,
   "metadata": {
    "ExecuteTime": {
     "end_time": "2020-11-04T20:26:53.611000+01:00",
     "start_time": "2020-11-04T19:26:27.320Z"
    }
   },
   "outputs": [],
   "source": [
    "using ProgressMeter"
   ]
  },
  {
   "cell_type": "code",
   "execution_count": 48,
   "metadata": {
    "ExecuteTime": {
     "end_time": "2020-11-04T20:26:53.686000+01:00",
     "start_time": "2020-11-04T19:26:27.382Z"
    }
   },
   "outputs": [
    {
     "data": {
      "text/plain": [
       "test_method (generic function with 1 method)"
      ]
     },
     "execution_count": 48,
     "metadata": {},
     "output_type": "execute_result"
    }
   ],
   "source": [
    "function test_method(method::String, w::Vector{Float64}, y::Vector{Float64}, n::Int)::Float64\n",
    "    start = time()\n",
    "    reps = 3\n",
    "    for reps = 1:reps\n",
    "        if method == \"rec\"\n",
    "            x_rec(w, y, n)\n",
    "        elseif method == \"loop\"\n",
    "            x_loop(w, y, n)\n",
    "        elseif method == \"pow\"\n",
    "            x_pow(w, y, n)\n",
    "        elseif method == \"eigen\"\n",
    "            x_eigen(w, y, n)\n",
    "        end\n",
    "    end\n",
    "    stop = time()\n",
    "    return (stop - start) / reps\n",
    "end"
   ]
  },
  {
   "cell_type": "code",
   "execution_count": 56,
   "metadata": {
    "ExecuteTime": {
     "end_time": "2020-11-04T20:27:11.576000+01:00",
     "start_time": "2020-11-04T19:27:11.142Z"
    }
   },
   "outputs": [
    {
     "name": "stderr",
     "output_type": "stream",
     "text": [
      "\u001b[32mProgress: 100%|█████████████████████████████████████████| Time: 0:00:00\u001b[39m\n"
     ]
    }
   ],
   "source": [
    "d = 5\n",
    "w = rand(d)\n",
    "y = rand(d)\n",
    "\n",
    "times_by_method = Dict()\n",
    "n_values = convert.(Int, round.(10 .^ (1:0.5:7)))\n",
    "\n",
    "@showprogress for method in [\"loop\", \"pow\", \"eigen\"]\n",
    "    times_by_method[method] = Float64[]\n",
    "    for n in n_values\n",
    "        duration = test_method(method, w, y, n)\n",
    "        push!(times_by_method[method], duration)\n",
    "    end\n",
    "end"
   ]
  },
  {
   "cell_type": "code",
   "execution_count": 50,
   "metadata": {
    "ExecuteTime": {
     "end_time": "2020-11-04T20:26:56.799000+01:00",
     "start_time": "2020-11-04T19:26:27.535Z"
    }
   },
   "outputs": [
    {
     "data": {
      "image/png": "[encoded data removed]",
      "text/plain": [
       "Figure(PyObject <Figure size 640x480 with 1 Axes>)"
      ]
     },
     "metadata": {},
     "output_type": "display_data"
    }
   ],
   "source": [
    "for (i, method) in enumerate(collect(keys(times_by_method)))\n",
    "    scatter(n_values .* exp(i), times_by_method[method], label=method, alpha=0.7)\n",
    "end\n",
    "legend()\n",
    "xscale(\"log\")\n",
    "xlabel(\"value of n\")\n",
    "ylabel(\"execution time [log scale]\")\n",
    "show()"
   ]
  },
  {
   "cell_type": "markdown",
   "metadata": {},
   "source": [
    "## 3. Graph algorithms"
   ]
  },
  {
   "cell_type": "markdown",
   "metadata": {},
   "source": [
    "Implement a weighted digraph data structure where vertices are labelled from $1$ to $n$"
   ]
  },
  {
   "cell_type": "code",
   "execution_count": 51,
   "metadata": {
    "ExecuteTime": {
     "end_time": "2020-11-04T20:26:56.802000+01:00",
     "start_time": "2020-11-04T19:26:27.715Z"
    }
   },
   "outputs": [],
   "source": [
    "struct Graph\n",
    "    n::Int\n",
    "    adj::Matrix{Float64}\n",
    "end"
   ]
  },
  {
   "cell_type": "markdown",
   "metadata": {},
   "source": [
    "Implement a function `nbvertices` counting the vertices of a graph $G$"
   ]
  },
  {
   "cell_type": "code",
   "execution_count": 52,
   "metadata": {
    "ExecuteTime": {
     "end_time": "2020-11-04T20:26:56.877000+01:00",
     "start_time": "2020-11-04T19:26:27.867Z"
    }
   },
   "outputs": [
    {
     "data": {
      "text/plain": [
       "nbvertices (generic function with 1 method)"
      ]
     },
     "execution_count": 52,
     "metadata": {},
     "output_type": "execute_result"
    }
   ],
   "source": [
    "function nbvertices(G::Graph)::Int\n",
    "    return G.n\n",
    "end"
   ]
  },
  {
   "cell_type": "markdown",
   "metadata": {},
   "source": [
    "Implement a function `vertices` listing the vertices of a graph $G$"
   ]
  },
  {
   "cell_type": "code",
   "execution_count": 53,
   "metadata": {
    "ExecuteTime": {
     "end_time": "2020-11-04T20:26:56.963000+01:00",
     "start_time": "2020-11-04T19:26:28.021Z"
    }
   },
   "outputs": [
    {
     "data": {
      "text/plain": [
       "vertices (generic function with 1 method)"
      ]
     },
     "execution_count": 53,
     "metadata": {},
     "output_type": "execute_result"
    }
   ],
   "source": [
    "function vertices(G::Graph)::Vector{Int}\n",
    "    V = collect(1:G.n)\n",
    "    return V\n",
    "end"
   ]
  },
  {
   "cell_type": "markdown",
   "metadata": {
    "ExecuteTime": {
     "end_time": "2020-10-25T21:15:15.591000+01:00",
     "start_time": "2020-10-25T20:15:15.584Z"
    }
   },
   "source": [
    "Implement functions `inneighbors` and `outneighbors` listing the neighbors of a vertex $u$ in $G$"
   ]
  },
  {
   "cell_type": "code",
   "execution_count": 54,
   "metadata": {
    "ExecuteTime": {
     "end_time": "2020-11-04T20:26:57.037000+01:00",
     "start_time": "2020-11-04T19:26:28.150Z"
    }
   },
   "outputs": [
    {
     "data": {
      "text/plain": [
       "outneighbors (generic function with 1 method)"
      ]
     },
     "execution_count": 54,
     "metadata": {},
     "output_type": "execute_result"
    }
   ],
   "source": [
    "function inneighbors(G::Graph, u::Int)::Vector{Int}\n",
    "    return [v for v in vertices(G) if G.adj[v, u] != 0.]\n",
    "end\n",
    "\n",
    "function outneighbors(G::Graph, u::Int)::Vector{Int}\n",
    "    return [v for v in vertices(G) if G.adj[u, v] != 0.]\n",
    "end"
   ]
  },
  {
   "cell_type": "markdown",
   "metadata": {},
   "source": [
    "Implement a function `edges` listing the edges of a graph $G$ as integer tuples"
   ]
  },
  {
   "cell_type": "code",
   "execution_count": 55,
   "metadata": {
    "ExecuteTime": {
     "end_time": "2020-11-04T20:26:57.107000+01:00",
     "start_time": "2020-11-04T19:26:28.263Z"
    }
   },
   "outputs": [
    {
     "data": {
      "text/plain": [
       "edges (generic function with 1 method)"
      ]
     },
     "execution_count": 55,
     "metadata": {},
     "output_type": "execute_result"
    }
   ],
   "source": [
    "function edges(G::Graph)::Vector{Tuple{Int, Int}}\n",
    "    E = Tuple{Int, Int}[]\n",
    "    for u in vertices(G)\n",
    "        for v in neighbors(G, u)\n",
    "            push!(E, (u, v))\n",
    "        end\n",
    "    end\n",
    "    return E\n",
    "end"
   ]
  },
  {
   "cell_type": "markdown",
   "metadata": {},
   "source": [
    "Implement depth-first search and topological sorting"
   ]
  },
  {
   "cell_type": "code",
   "execution_count": null,
   "metadata": {},
   "outputs": [],
   "source": []
  },
  {
   "cell_type": "markdown",
   "metadata": {},
   "source": [
    "Implement breadth-first search"
   ]
  },
  {
   "cell_type": "code",
   "execution_count": null,
   "metadata": {},
   "outputs": [],
   "source": []
  },
  {
   "cell_type": "markdown",
   "metadata": {},
   "source": [
    "Implement Dijkstra's algorithm, either in a naive way or using the priority queue of `DataStructures`"
   ]
  },
  {
   "cell_type": "code",
   "execution_count": null,
   "metadata": {},
   "outputs": [],
   "source": []
  },
  {
   "cell_type": "markdown",
   "metadata": {
    "ExecuteTime": {
     "end_time": "2020-11-04T20:23:48.730000+01:00",
     "start_time": "2020-11-04T19:23:48.691Z"
    }
   },
   "source": [
    "Implement the Ford-Bellman algorithm"
   ]
  },
  {
   "cell_type": "code",
   "execution_count": null,
   "metadata": {},
   "outputs": [],
   "source": []
  },
  {
   "cell_type": "markdown",
   "metadata": {},
   "source": [
    "Implement the Edmunds-Karp algorithm, using edge weights as the capacities"
   ]
  },
  {
   "cell_type": "code",
   "execution_count": null,
   "metadata": {},
   "outputs": [],
   "source": []
  },
  {
   "cell_type": "markdown",
   "metadata": {},
   "source": [
    "Implement Kruskal's algorithm"
   ]
  },
  {
   "cell_type": "code",
   "execution_count": null,
   "metadata": {},
   "outputs": [],
   "source": []
  },
  {
   "cell_type": "markdown",
   "metadata": {},
   "source": [
    "Implement a function checking whether a graph is bipartite"
   ]
  },
  {
   "cell_type": "code",
   "execution_count": null,
   "metadata": {},
   "outputs": [],
   "source": []
  },
  {
   "cell_type": "markdown",
   "metadata": {
    "ExecuteTime": {
     "end_time": "2020-11-04T20:26:01.473000+01:00",
     "start_time": "2020-11-04T19:26:01.450Z"
    }
   },
   "source": [
    "Implement the Hungarian algorithm"
   ]
  },
  {
   "cell_type": "code",
   "execution_count": null,
   "metadata": {},
   "outputs": [],
   "source": []
  }
 ],
 "metadata": {
  "kernelspec": {
   "display_name": "Julia 1.5.2",
   "language": "julia",
   "name": "julia-1.5"
  },
  "language_info": {
   "file_extension": ".jl",
   "mimetype": "application/julia",
   "name": "julia",
   "version": "1.5.2"
  },
  "latex_envs": {
   "LaTeX_envs_menu_present": true,
   "autoclose": false,
   "autocomplete": true,
   "bibliofile": "biblio.bib",
   "cite_by": "apalike",
   "current_citInitial": 1,
   "eqLabelWithNumbers": true,
   "eqNumInitial": 1,
   "hotkeys": {
    "equation": "Ctrl-E",
    "itemize": "Ctrl-I"
   },
   "labels_anchors": false,
   "latex_user_defs": false,
   "report_style_numbering": false,
   "user_envs_cfg": false
  }
 },
 "nbformat": 4,
 "nbformat_minor": 2
}
