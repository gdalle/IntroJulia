{
 "cells": [
  {
   "cell_type": "markdown",
   "metadata": {},
   "source": [
    "# Introduction to Julia"
   ]
  },
  {
   "cell_type": "markdown",
   "metadata": {},
   "source": [
    "Julia is a recent programming language that aims at combining high performance with ease of use. It is increasingly popular in the optimization community."
   ]
  },
  {
   "cell_type": "markdown",
   "metadata": {},
   "source": [
    "## 0. Preliminaries"
   ]
  },
  {
   "cell_type": "markdown",
   "metadata": {},
   "source": [
    "In this Jupyter notebook, you have access to a structured equivalent of Julia's REPL, i.e. the interactive console. Here, you can divide your code in cells to modify and run each one separately (use `Shift`+`Enter` to run a cell and move to the next one). By default, the output of a cell is the value of its last expression, you can hide it by ending the cell with `;`."
   ]
  },
  {
   "cell_type": "code",
   "execution_count": null,
   "metadata": {
    "ExecuteTime": {
     "end_time": "2020-11-09T10:50:12.510000+01:00",
     "start_time": "2020-11-09T09:50:11.606Z"
    }
   },
   "outputs": [],
   "source": [
    "1 + 2"
   ]
  },
  {
   "cell_type": "markdown",
   "metadata": {},
   "source": [
    "**This tutorial is quite long, especially the first part. If you want, you can skip directly to part 2 or even 3, and come back to the beginning when you don't know how to do something.**\n",
    "\n",
    "Although we will introduce some useful commands, we cannot describe all of them. A very good summary can be found at https://juliadocs.github.io/Julia-Cheat-Sheet/, and we will often refer the reader to it."
   ]
  },
  {
   "cell_type": "markdown",
   "metadata": {},
   "source": [
    "### Differences with Python"
   ]
  },
  {
   "cell_type": "markdown",
   "metadata": {},
   "source": [
    "For those who already master Python, here are the key novelties of Julia:\n",
    "- Even though they are not necessary, types are heavily used to make the code both clearer and faster.\n",
    "- There are no classes, only \"structures\" which contain data but no methods.\n",
    "- Blocks are not based on indentation but delimited by the `end` keyword.\n",
    "- Array indexing starts at `a[1]` instead of `a[0]`, and ranges `i:j` include the last index.\n",
    "- Vectorizing the code doesn't improve its speed.\n",
    "\n",
    "A more exhaustive list is available at https://docs.julialang.org/en/v1/manual/noteworthy-differences/#Noteworthy-differences-from-Python."
   ]
  },
  {
   "cell_type": "markdown",
   "metadata": {},
   "source": [
    "### Compilation"
   ]
  },
  {
   "cell_type": "markdown",
   "metadata": {},
   "source": [
    "When you run a chunk of code for the first time, it takes longer due to compilation. Don't be surprised, it is fundamental to Julia's performance, and the following runs are much faster."
   ]
  },
  {
   "cell_type": "markdown",
   "metadata": {},
   "source": [
    "### Imports"
   ]
  },
  {
   "cell_type": "markdown",
   "metadata": {},
   "source": [
    "A package can be imported with the keyword `using ...`, which makes all of its functions available without prefix (similar to the Python code `from ... import *`). If you want to keep prefixes, use `import ...` instead.\n",
    "\n",
    "Before a package can be imported, it must be installed. Here we install all the packages we will need during this tutorial. The following cell may take a while to run, especially with a slow internet connection."
   ]
  },
  {
   "cell_type": "code",
   "execution_count": null,
   "metadata": {
    "ExecuteTime": {
     "end_time": "2020-11-09T10:50:29.237000+01:00",
     "start_time": "2020-11-09T09:50:15.298Z"
    }
   },
   "outputs": [],
   "source": [
    "using Pkg\n",
    "Pkg.update()\n",
    "Pkg.add([\n",
    "        \"BenchmarkTools\",\n",
    "        \"GLPK\",\n",
    "        \"GraphPlot\",\n",
    "        \"JuMP\",\n",
    "        \"LightGraphs\",\n",
    "        \"PyPlot\",\n",
    "])"
   ]
  },
  {
   "cell_type": "markdown",
   "metadata": {},
   "source": [
    "## 1. The basics"
   ]
  },
  {
   "cell_type": "markdown",
   "metadata": {},
   "source": [
    "### Variables and elementary operations"
   ]
  },
  {
   "cell_type": "markdown",
   "metadata": {},
   "source": [
    "Variable assignment works as one would expect. Note that you can use LaTeX symbols by typing (for instance) \"\\beta\" + `Tab` in the REPL or a Jupyter cell. This also works for indices when typing \"u\\\\_1\" + `Tab`."
   ]
  },
  {
   "cell_type": "code",
   "execution_count": null,
   "metadata": {
    "ExecuteTime": {
     "end_time": "2020-11-09T10:50:31.964000+01:00",
     "start_time": "2020-11-09T09:50:31.959Z"
    }
   },
   "outputs": [],
   "source": [
    "x = 1\n",
    "ε = 0.1\n",
    "u₁ = 10"
   ]
  },
  {
   "cell_type": "markdown",
   "metadata": {},
   "source": [
    "Elementary operations are well summed up in https://juliadocs.github.io/Julia-Cheat-Sheet/. When comparing to Python, the main changes are boolean operators.."
   ]
  },
  {
   "cell_type": "markdown",
   "metadata": {},
   "source": [
    "### Types"
   ]
  },
  {
   "cell_type": "markdown",
   "metadata": {},
   "source": [
    "Like in Python, each variable in Julia has a type."
   ]
  },
  {
   "cell_type": "code",
   "execution_count": null,
   "metadata": {
    "ExecuteTime": {
     "end_time": "2020-11-09T10:50:34.485000+01:00",
     "start_time": "2020-11-09T09:50:34.133Z"
    }
   },
   "outputs": [],
   "source": [
    "a = 1\n",
    "b = 1.\n",
    "c = '1'\n",
    "d = \"1\"\n",
    "typeof(a), typeof(b), typeof(c), typeof(d)"
   ]
  },
  {
   "cell_type": "markdown",
   "metadata": {},
   "source": [
    "Julia's typing system is dynamic, i.e. variables can change types, but performance can be increased by avoiding such changes and specifying the types when they are known in advance."
   ]
  },
  {
   "cell_type": "markdown",
   "metadata": {},
   "source": [
    "### Functions"
   ]
  },
  {
   "cell_type": "markdown",
   "metadata": {},
   "source": [
    "The first function you need to master is for printing:"
   ]
  },
  {
   "cell_type": "code",
   "execution_count": null,
   "metadata": {
    "ExecuteTime": {
     "end_time": "2020-11-09T10:50:35.888000+01:00",
     "start_time": "2020-11-09T09:50:35.872Z"
    }
   },
   "outputs": [],
   "source": [
    "println(\"Hello world!\")"
   ]
  },
  {
   "cell_type": "markdown",
   "metadata": {},
   "source": [
    "More generally, a function is defined with the following syntax:"
   ]
  },
  {
   "cell_type": "code",
   "execution_count": null,
   "metadata": {
    "ExecuteTime": {
     "end_time": "2020-11-09T10:50:36.737000+01:00",
     "start_time": "2020-11-09T09:50:36.499Z"
    }
   },
   "outputs": [],
   "source": [
    "function addition(a, b)\n",
    "    println(\"I am adding stuff\")\n",
    "    return a + b\n",
    "end"
   ]
  },
  {
   "cell_type": "markdown",
   "metadata": {},
   "source": [
    "If we want, we can specify the types of the inputs and output:"
   ]
  },
  {
   "cell_type": "code",
   "execution_count": null,
   "metadata": {
    "ExecuteTime": {
     "end_time": "2020-11-09T10:50:38.474000+01:00",
     "start_time": "2020-11-09T09:50:38.468Z"
    }
   },
   "outputs": [],
   "source": [
    "function addition(a::Int, b::Int)::Int\n",
    "    println(\"I am adding integers\")\n",
    "    return a + b\n",
    "end"
   ]
  },
  {
   "cell_type": "markdown",
   "metadata": {},
   "source": [
    "Note that there is still only one function `addition`, but it now has two \"methods\": one for integers, and one more generic."
   ]
  },
  {
   "cell_type": "code",
   "execution_count": null,
   "metadata": {
    "ExecuteTime": {
     "end_time": "2020-11-09T10:50:40.924000+01:00",
     "start_time": "2020-11-09T09:50:40.389Z"
    }
   },
   "outputs": [],
   "source": [
    "methods(addition)"
   ]
  },
  {
   "cell_type": "markdown",
   "metadata": {},
   "source": [
    "This is linked to a key feature of Julia called *multiple dispatch*: the program will decide at runtime which function to apply depending on the type of the arguments."
   ]
  },
  {
   "cell_type": "code",
   "execution_count": null,
   "metadata": {
    "ExecuteTime": {
     "end_time": "2020-11-09T10:50:42.107000+01:00",
     "start_time": "2020-11-09T09:50:42.102Z"
    }
   },
   "outputs": [],
   "source": [
    "addition(1, 2)"
   ]
  },
  {
   "cell_type": "code",
   "execution_count": null,
   "metadata": {
    "ExecuteTime": {
     "end_time": "2020-11-09T10:50:42.489000+01:00",
     "start_time": "2020-11-09T09:50:42.222Z"
    }
   },
   "outputs": [],
   "source": [
    "addition(1, 0.5)"
   ]
  },
  {
   "cell_type": "markdown",
   "metadata": {},
   "source": [
    "As in Python, you can add optional and keyword arguments."
   ]
  },
  {
   "cell_type": "markdown",
   "metadata": {},
   "source": [
    "### Arrays"
   ]
  },
  {
   "cell_type": "markdown",
   "metadata": {},
   "source": [
    "Arrays can be created and extended just like in Python, using square brackets:"
   ]
  },
  {
   "cell_type": "code",
   "execution_count": null,
   "metadata": {
    "ExecuteTime": {
     "end_time": "2020-11-09T10:50:44.588000+01:00",
     "start_time": "2020-11-09T09:50:44.453Z"
    }
   },
   "outputs": [],
   "source": [
    "a = [3, 2]\n",
    "push!(a, 1)\n",
    "println(a)"
   ]
  },
  {
   "cell_type": "markdown",
   "metadata": {},
   "source": [
    "However, if we know the type and size of the array in advance, it is better to allocate the memory first (with the `undef` object):"
   ]
  },
  {
   "cell_type": "code",
   "execution_count": null,
   "metadata": {
    "ExecuteTime": {
     "end_time": "2020-11-09T10:50:47.184000+01:00",
     "start_time": "2020-11-09T09:50:46.437Z"
    }
   },
   "outputs": [],
   "source": [
    "a = Array{Int, 1}(undef, 3)"
   ]
  },
  {
   "cell_type": "markdown",
   "metadata": {},
   "source": [
    "These random numbers are here because if we don't write any value in it, the array still contains whatever was in memory there before. We must therefore fill it:"
   ]
  },
  {
   "cell_type": "code",
   "execution_count": null,
   "metadata": {
    "ExecuteTime": {
     "end_time": "2020-11-09T10:50:51.976000+01:00",
     "start_time": "2020-11-09T09:50:51.969Z"
    }
   },
   "outputs": [],
   "source": [
    "a[1], a[2], a[3] = 3, 2, 1\n",
    "println(a)"
   ]
  },
  {
   "cell_type": "markdown",
   "metadata": {},
   "source": [
    "The syntax `Array{T, d}` denotes an array with element type `T` and `d` dimensions (or axes). For $d=1$ and $d=2$ we have shortcuts:"
   ]
  },
  {
   "cell_type": "code",
   "execution_count": null,
   "metadata": {
    "ExecuteTime": {
     "end_time": "2020-11-09T10:50:54.005000+01:00",
     "start_time": "2020-11-09T09:50:54.002Z"
    }
   },
   "outputs": [],
   "source": [
    "v = Vector{Float64}(undef, 2)\n",
    "M = Matrix{Float64}(undef, 3, 2);"
   ]
  },
  {
   "cell_type": "markdown",
   "metadata": {},
   "source": [
    "Vectorizing a function `f` in Julia is done by adding a dot after its name."
   ]
  },
  {
   "cell_type": "code",
   "execution_count": null,
   "metadata": {
    "ExecuteTime": {
     "end_time": "2020-11-09T10:51:06.029000+01:00",
     "start_time": "2020-11-09T09:51:05.943Z"
    }
   },
   "outputs": [],
   "source": [
    "function square(n::Int)::Int\n",
    "    return n^2\n",
    "end"
   ]
  },
  {
   "cell_type": "code",
   "execution_count": null,
   "metadata": {
    "ExecuteTime": {
     "end_time": "2020-11-09T10:51:07.384000+01:00",
     "start_time": "2020-11-09T09:51:07.345Z"
    }
   },
   "outputs": [],
   "source": [
    "square.(a)"
   ]
  },
  {
   "cell_type": "markdown",
   "metadata": {},
   "source": [
    "The same goes for elementary operators, except the dot comes before:"
   ]
  },
  {
   "cell_type": "code",
   "execution_count": null,
   "metadata": {
    "ExecuteTime": {
     "end_time": "2020-11-09T10:51:09.166000+01:00",
     "start_time": "2020-11-09T09:51:09.122Z"
    }
   },
   "outputs": [],
   "source": [
    "a.*2"
   ]
  },
  {
   "cell_type": "code",
   "execution_count": null,
   "metadata": {
    "ExecuteTime": {
     "end_time": "2020-11-09T10:51:10.363000+01:00",
     "start_time": "2020-11-09T09:51:09.469Z"
    }
   },
   "outputs": [],
   "source": [
    "a.*2 .== a.^2"
   ]
  },
  {
   "cell_type": "markdown",
   "metadata": {},
   "source": [
    "Beyond arrays, Julia also offers built-in support for common data structures such as sets and dictionaries."
   ]
  },
  {
   "cell_type": "markdown",
   "metadata": {},
   "source": [
    "### Conditions and loops"
   ]
  },
  {
   "cell_type": "markdown",
   "metadata": {},
   "source": [
    "Here is an example of `if`-`then`-`else` block:"
   ]
  },
  {
   "cell_type": "code",
   "execution_count": null,
   "metadata": {
    "ExecuteTime": {
     "end_time": "2020-11-09T10:51:12.892000+01:00",
     "start_time": "2020-11-09T09:51:12.820Z"
    }
   },
   "outputs": [],
   "source": [
    "function test_sign(n::Int)::String\n",
    "    if n > 0\n",
    "        return \"strictly positive\"\n",
    "    elseif n < 0\n",
    "        return \"strictly negative\"\n",
    "    else\n",
    "        return \"zero\"\n",
    "    end\n",
    "end"
   ]
  },
  {
   "cell_type": "markdown",
   "metadata": {},
   "source": [
    "Here is an example of `for` loop:"
   ]
  },
  {
   "cell_type": "code",
   "execution_count": null,
   "metadata": {
    "ExecuteTime": {
     "end_time": "2020-11-09T10:51:14.544000+01:00",
     "start_time": "2020-11-09T09:51:14.468Z"
    }
   },
   "outputs": [],
   "source": [
    "function fibonacci(n::Int)::Int\n",
    "    a, b = 0, 1\n",
    "    for k = 1:n\n",
    "        a, b = b, a + b\n",
    "    end\n",
    "    return a\n",
    "end"
   ]
  },
  {
   "cell_type": "markdown",
   "metadata": {},
   "source": [
    "Loops also allow us to define arrays by comprehension:"
   ]
  },
  {
   "cell_type": "code",
   "execution_count": null,
   "metadata": {
    "ExecuteTime": {
     "end_time": "2020-11-09T10:51:15.953000+01:00",
     "start_time": "2020-11-09T09:51:15.921Z"
    }
   },
   "outputs": [],
   "source": [
    "powers = [2^k for k = 0:10]"
   ]
  },
  {
   "cell_type": "markdown",
   "metadata": {},
   "source": [
    "Finally, here is an example of `while` loop:"
   ]
  },
  {
   "cell_type": "code",
   "execution_count": null,
   "metadata": {
    "ExecuteTime": {
     "end_time": "2020-11-09T10:51:16.249000+01:00",
     "start_time": "2020-11-09T09:51:16.177Z"
    }
   },
   "outputs": [],
   "source": [
    "collatz(n::Int)::Int = (n%2 == 0) ? n÷2 : 3n+1\n",
    "\n",
    "function collatz_iterations(n::Int)::Int\n",
    "    it = 0\n",
    "    while n > 1\n",
    "        n = collatz(n)\n",
    "        it += 1\n",
    "    end\n",
    "    return it\n",
    "end"
   ]
  },
  {
   "cell_type": "markdown",
   "metadata": {},
   "source": [
    "### Structures"
   ]
  },
  {
   "cell_type": "markdown",
   "metadata": {},
   "source": [
    "Julia's notion of object is nothing more than a tuple with named components. We can define one like this:"
   ]
  },
  {
   "cell_type": "code",
   "execution_count": null,
   "metadata": {
    "ExecuteTime": {
     "end_time": "2020-11-09T10:51:18.106000+01:00",
     "start_time": "2020-11-09T09:51:18.099Z"
    }
   },
   "outputs": [],
   "source": [
    "struct Point3D\n",
    "    name::String\n",
    "    x::Float64\n",
    "    y::Float64\n",
    "    z::Float64\n",
    "end"
   ]
  },
  {
   "cell_type": "markdown",
   "metadata": {},
   "source": [
    "To create an object, just apply its name as a function:"
   ]
  },
  {
   "cell_type": "code",
   "execution_count": null,
   "metadata": {
    "ExecuteTime": {
     "end_time": "2020-11-09T10:51:18.605000+01:00",
     "start_time": "2020-11-09T09:51:18.390Z"
    }
   },
   "outputs": [],
   "source": [
    "p = Point3D(\"HOME\", 1., 7., -13.)"
   ]
  },
  {
   "cell_type": "markdown",
   "metadata": {},
   "source": [
    "The structures themselves contain no methods. However, we can define some by writing functions that take an input with the type we defined:"
   ]
  },
  {
   "cell_type": "code",
   "execution_count": null,
   "metadata": {
    "ExecuteTime": {
     "end_time": "2020-11-09T10:51:18.980000+01:00",
     "start_time": "2020-11-09T09:51:18.912Z"
    }
   },
   "outputs": [],
   "source": [
    "function display(p::Point3D)\n",
    "    name, x, y, z = p.name, p.x, p.y, p.z\n",
    "    println(\"I am the point $name with coordinates ($x, $y, $z)\")\n",
    "end"
   ]
  },
  {
   "cell_type": "code",
   "execution_count": null,
   "metadata": {
    "ExecuteTime": {
     "end_time": "2020-11-09T10:51:20.160000+01:00",
     "start_time": "2020-11-09T09:51:20.149Z"
    }
   },
   "outputs": [],
   "source": [
    "display(p)"
   ]
  },
  {
   "cell_type": "markdown",
   "metadata": {},
   "source": [
    "### Plots"
   ]
  },
  {
   "cell_type": "markdown",
   "metadata": {},
   "source": [
    "Plots can be generated with a Julia version of `matplotlib.pyplot`:"
   ]
  },
  {
   "cell_type": "code",
   "execution_count": null,
   "metadata": {
    "ExecuteTime": {
     "end_time": "2020-11-09T10:51:27.232000+01:00",
     "start_time": "2020-11-09T09:51:22.996Z"
    }
   },
   "outputs": [],
   "source": [
    "using PyPlot\n",
    "pygui(false)"
   ]
  },
  {
   "cell_type": "code",
   "execution_count": null,
   "metadata": {
    "ExecuteTime": {
     "end_time": "2020-11-09T10:51:30.068000+01:00",
     "start_time": "2020-11-09T09:51:23.373Z"
    }
   },
   "outputs": [],
   "source": [
    "x = collect(1:0.2:10)\n",
    "y = sin.(x)\n",
    "plot(x, y, color=\"blue\", label=\"curve\")\n",
    "scatter(x, y, color=\"red\", label=\"points\")\n",
    "xlabel(\"x axis\")\n",
    "ylabel(\"y axis\")\n",
    "legend()\n",
    "title(\"The sine function\")\n",
    "show()"
   ]
  },
  {
   "cell_type": "markdown",
   "metadata": {},
   "source": [
    "### Optimization"
   ]
  },
  {
   "cell_type": "markdown",
   "metadata": {},
   "source": [
    "The standard library for mathematical programming in Julia is called `JuMP`, a quick tutorial is available at https://jump.dev/JuMP.jl/stable/quickstart/."
   ]
  },
  {
   "cell_type": "markdown",
   "metadata": {},
   "source": [
    "### Miscellaneous"
   ]
  },
  {
   "cell_type": "markdown",
   "metadata": {},
   "source": [
    "To  display the documentation (docstring) of a function, simply type `?` followed by its name in the REPL:"
   ]
  },
  {
   "cell_type": "code",
   "execution_count": null,
   "metadata": {
    "ExecuteTime": {
     "end_time": "2020-11-09T10:51:35.374000+01:00",
     "start_time": "2020-11-09T09:51:34.033Z"
    }
   },
   "outputs": [],
   "source": [
    "?sin"
   ]
  },
  {
   "cell_type": "markdown",
   "metadata": {},
   "source": [
    "Comments start with `#`"
   ]
  },
  {
   "cell_type": "code",
   "execution_count": null,
   "metadata": {
    "ExecuteTime": {
     "end_time": "2020-11-09T10:51:37.329000+01:00",
     "start_time": "2020-11-09T09:51:37.326Z"
    }
   },
   "outputs": [],
   "source": [
    "# this is a comment"
   ]
  },
  {
   "cell_type": "markdown",
   "metadata": {},
   "source": [
    "Error messages can be generated using the following function. You can also throw and catch more sophisticated exceptions."
   ]
  },
  {
   "cell_type": "code",
   "execution_count": null,
   "metadata": {
    "ExecuteTime": {
     "end_time": "2020-11-09T10:51:38.850000+01:00",
     "start_time": "2020-11-09T09:51:38.294Z"
    }
   },
   "outputs": [],
   "source": [
    "error(\"You made a serious mistake\")"
   ]
  },
  {
   "cell_type": "markdown",
   "metadata": {},
   "source": [
    "Functions that modify one or more of their arguments typically end with `!`:"
   ]
  },
  {
   "cell_type": "code",
   "execution_count": null,
   "metadata": {
    "ExecuteTime": {
     "end_time": "2020-11-09T10:51:40.646000+01:00",
     "start_time": "2020-11-09T09:51:40.510Z"
    }
   },
   "outputs": [],
   "source": [
    "function add_one!(x::Vector{Int})\n",
    "    n = length(x)\n",
    "    for i = 1:n\n",
    "        x[i] += 1\n",
    "    end\n",
    "end"
   ]
  },
  {
   "cell_type": "markdown",
   "metadata": {},
   "source": [
    "The execution time of a function can be measured as follows:"
   ]
  },
  {
   "cell_type": "code",
   "execution_count": null,
   "metadata": {
    "ExecuteTime": {
     "end_time": "2020-11-09T10:51:42.713000+01:00",
     "start_time": "2020-11-09T09:51:41.782Z"
    }
   },
   "outputs": [],
   "source": [
    "using BenchmarkTools"
   ]
  },
  {
   "cell_type": "code",
   "execution_count": null,
   "metadata": {
    "ExecuteTime": {
     "end_time": "2020-11-09T10:51:46.311000+01:00",
     "start_time": "2020-11-09T09:51:42.188Z"
    },
    "scrolled": true
   },
   "outputs": [],
   "source": [
    "Δt = @belapsed (M = rand(5, 5); N = M^2)"
   ]
  },
  {
   "cell_type": "markdown",
   "metadata": {
    "ExecuteTime": {
     "end_time": "2020-11-05T13:39:08.863000+01:00",
     "start_time": "2020-11-05T12:39:08.323Z"
    }
   },
   "source": [
    "The Julia equivalent of Python's `None` is called `nothing`. The constant `NaN` also exists in Julia, it has type `Float64`."
   ]
  },
  {
   "cell_type": "markdown",
   "metadata": {},
   "source": [
    "## 2. Linear recurrent sequences"
   ]
  },
  {
   "cell_type": "markdown",
   "metadata": {},
   "source": [
    "In this problem, we go through different ways of computing the terms of the sequence \n",
    "\n",
    "\\begin{align*}\n",
    "    x_n & = w_1 x_{n-1} + ... + w_d x_{n-d}\n",
    "\\end{align*}\n",
    "\n",
    "whose initial values are\n",
    "\n",
    "\\begin{align*}\n",
    "    x_1 & = y_1 \\\\\n",
    "    &~\\vdots \\\\\n",
    "    x_d & = y_d\n",
    "\\end{align*}\n",
    "\n",
    "As you have surely noticed by now, Jupyter notebooks can also accomodate $\\LaTeX$ code."
   ]
  },
  {
   "cell_type": "markdown",
   "metadata": {},
   "source": [
    "### 2.1 Recursive computation"
   ]
  },
  {
   "cell_type": "markdown",
   "metadata": {},
   "source": [
    "Implement a function `x_rec(w::Vector{Float64}, y::Vector{Float64}, n::Int)::Float64` computing $x_n$ recursively.\n",
    "\n",
    "Do not use it for $n > 30$ or your computer will explode."
   ]
  },
  {
   "cell_type": "code",
   "execution_count": null,
   "metadata": {
    "ExecuteTime": {
     "end_time": "2020-11-09T10:51:52.087000+01:00",
     "start_time": "2020-11-09T09:51:51.566Z"
    }
   },
   "outputs": [],
   "source": []
  },
  {
   "cell_type": "code",
   "execution_count": null,
   "metadata": {
    "ExecuteTime": {
     "end_time": "2020-11-09T10:51:52.558000+01:00",
     "start_time": "2020-11-09T09:51:52.434Z"
    }
   },
   "outputs": [],
   "source": [
    "@assert x_rec([1., 1.], [1., 1.], 10) ≈ 55."
   ]
  },
  {
   "cell_type": "markdown",
   "metadata": {},
   "source": [
    "Implement a function `x_loop` computing $x_n$ using a loop."
   ]
  },
  {
   "cell_type": "code",
   "execution_count": null,
   "metadata": {
    "ExecuteTime": {
     "end_time": "2020-11-09T10:51:53.514000+01:00",
     "start_time": "2020-11-09T09:51:53.422Z"
    }
   },
   "outputs": [],
   "source": []
  },
  {
   "cell_type": "code",
   "execution_count": null,
   "metadata": {
    "ExecuteTime": {
     "end_time": "2020-11-09T10:51:54.069000+01:00",
     "start_time": "2020-11-09T09:51:53.949Z"
    }
   },
   "outputs": [],
   "source": [
    "@assert x_loop([1., 1.], [1., 1.], 10) ≈ 55."
   ]
  },
  {
   "cell_type": "markdown",
   "metadata": {},
   "source": [
    "Implement a function `build_M` constructing the matrix\n",
    "\\begin{align*}\n",
    "M = \\begin{pmatrix}\n",
    "0 & 1 & 0 & \\cdots & & 0 \\\\\n",
    "0 & 0 & 1 & 0 & \\cdots & 0 \\\\\n",
    "  & & \\ddots & \\ddots & \\ddots & \\vdots\\\\\n",
    "\\vdots & & &  0 & 1 & 0 \\\\\n",
    "& & & & 0 & 1 \\\\\n",
    "w_1 & w_2 &  & \\cdots &  & w_d\n",
    "\\end{pmatrix}\n",
    "\\end{align*}"
   ]
  },
  {
   "cell_type": "code",
   "execution_count": null,
   "metadata": {
    "ExecuteTime": {
     "end_time": "2020-11-09T10:51:55.868000+01:00",
     "start_time": "2020-11-09T09:51:55.778Z"
    }
   },
   "outputs": [],
   "source": []
  },
  {
   "cell_type": "code",
   "execution_count": null,
   "metadata": {
    "ExecuteTime": {
     "end_time": "2020-11-09T10:51:57.054000+01:00",
     "start_time": "2020-11-09T09:51:56.786Z"
    }
   },
   "outputs": [],
   "source": [
    "@assert build_M([1., 2., 3.]) ≈ [0. 1. 0. ; 0. 0. 1. ; 1. 2. 3.]"
   ]
  },
  {
   "cell_type": "markdown",
   "metadata": {},
   "source": [
    "Implement a function `x_pow` computing $x_n$ using the powers of $M$."
   ]
  },
  {
   "cell_type": "code",
   "execution_count": null,
   "metadata": {
    "ExecuteTime": {
     "end_time": "2020-11-09T10:51:58.318000+01:00",
     "start_time": "2020-11-09T09:51:58.240Z"
    }
   },
   "outputs": [],
   "source": []
  },
  {
   "cell_type": "code",
   "execution_count": null,
   "metadata": {
    "ExecuteTime": {
     "end_time": "2020-11-09T10:51:59.057000+01:00",
     "start_time": "2020-11-09T09:51:58.901Z"
    }
   },
   "outputs": [],
   "source": [
    "@assert x_pow([1., 1.], [1., 1.], 10) ≈ 55."
   ]
  },
  {
   "cell_type": "markdown",
   "metadata": {},
   "source": [
    "Implement a function `pow_eigen` computing the powers of a matrix using its eigendecomposition, assuming it exists. You can compute it using the library `LinearAlgebra`."
   ]
  },
  {
   "cell_type": "code",
   "execution_count": null,
   "metadata": {
    "ExecuteTime": {
     "end_time": "2020-11-09T10:52:01.266000+01:00",
     "start_time": "2020-11-09T09:52:01.265Z"
    }
   },
   "outputs": [],
   "source": [
    "using LinearAlgebra"
   ]
  },
  {
   "cell_type": "code",
   "execution_count": null,
   "metadata": {
    "ExecuteTime": {
     "end_time": "2020-11-09T10:52:02.038000+01:00",
     "start_time": "2020-11-09T09:52:01.952Z"
    }
   },
   "outputs": [],
   "source": []
  },
  {
   "cell_type": "code",
   "execution_count": null,
   "metadata": {
    "ExecuteTime": {
     "end_time": "2020-11-09T10:52:03.451000+01:00",
     "start_time": "2020-11-09T09:52:02.611Z"
    }
   },
   "outputs": [],
   "source": [
    "randM = rand(3, 3)\n",
    "@assert pow_eigen(randM + randM', 5) ≈ (randM + randM')^5"
   ]
  },
  {
   "cell_type": "markdown",
   "metadata": {},
   "source": [
    "Implement a function `x_eigen` computing $x_n$ using the eigendecomposition of $M$."
   ]
  },
  {
   "cell_type": "code",
   "execution_count": null,
   "metadata": {
    "ExecuteTime": {
     "end_time": "2020-11-09T10:52:26.556000+01:00",
     "start_time": "2020-11-09T09:52:26.481Z"
    }
   },
   "outputs": [],
   "source": []
  },
  {
   "cell_type": "code",
   "execution_count": null,
   "metadata": {
    "ExecuteTime": {
     "end_time": "2020-11-09T10:52:27.038000+01:00",
     "start_time": "2020-11-09T09:52:27.025Z"
    }
   },
   "outputs": [],
   "source": [
    "@assert x_eigen([1., 1.], [1., 1.], 10) ≈ 55."
   ]
  },
  {
   "cell_type": "markdown",
   "metadata": {},
   "source": [
    "Plot and the execution times of all your functions for various values of $n$. Conclude on the fastest approach."
   ]
  },
  {
   "cell_type": "code",
   "execution_count": null,
   "metadata": {
    "ExecuteTime": {
     "end_time": "2020-11-09T10:52:29.417000+01:00",
     "start_time": "2020-11-09T09:52:29.343Z"
    }
   },
   "outputs": [],
   "source": []
  },
  {
   "cell_type": "markdown",
   "metadata": {},
   "source": [
    "Bonus question: why do both methods using matrix powers have sublinear complexity?"
   ]
  },
  {
   "cell_type": "markdown",
   "metadata": {},
   "source": [
    "## 3. Graph algorithms"
   ]
  },
  {
   "cell_type": "markdown",
   "metadata": {},
   "source": [
    "### Data structure"
   ]
  },
  {
   "cell_type": "markdown",
   "metadata": {},
   "source": [
    "Implement a weighted directed graph data structure called `Graph` where vertices are labelled from $1$ to $n$. Make sure that its attributes can be modified by putting the keyword `mutable` before `struct`."
   ]
  },
  {
   "cell_type": "code",
   "execution_count": null,
   "metadata": {
    "ExecuteTime": {
     "end_time": "2020-11-09T10:52:48.485000+01:00",
     "start_time": "2020-11-09T09:52:48.483Z"
    }
   },
   "outputs": [],
   "source": []
  },
  {
   "cell_type": "markdown",
   "metadata": {},
   "source": [
    "### Describing a graph"
   ]
  },
  {
   "cell_type": "markdown",
   "metadata": {},
   "source": [
    "Implement a function `nv(G)` counting the vertices of a graph"
   ]
  },
  {
   "cell_type": "code",
   "execution_count": null,
   "metadata": {
    "ExecuteTime": {
     "end_time": "2020-11-09T10:52:49.777000+01:00",
     "start_time": "2020-11-09T09:52:49.696Z"
    }
   },
   "outputs": [],
   "source": []
  },
  {
   "cell_type": "markdown",
   "metadata": {},
   "source": [
    "Implement a function `vertices(G)` listing the vertices of a graph"
   ]
  },
  {
   "cell_type": "code",
   "execution_count": null,
   "metadata": {
    "ExecuteTime": {
     "end_time": "2020-11-09T10:52:50.486000+01:00",
     "start_time": "2020-11-09T09:52:50.386Z"
    }
   },
   "outputs": [],
   "source": []
  },
  {
   "cell_type": "markdown",
   "metadata": {},
   "source": [
    "Implement a function `has_edge(G, u, v)` checking whether edge $(u, v)$ exists"
   ]
  },
  {
   "cell_type": "code",
   "execution_count": null,
   "metadata": {
    "ExecuteTime": {
     "end_time": "2020-11-09T10:52:51.041000+01:00",
     "start_time": "2020-11-09T09:52:50.960Z"
    }
   },
   "outputs": [],
   "source": []
  },
  {
   "cell_type": "markdown",
   "metadata": {
    "ExecuteTime": {
     "end_time": "2020-10-25T21:15:15.591000+01:00",
     "start_time": "2020-10-25T20:15:15.584Z"
    }
   },
   "source": [
    "Implement the functions `inneighbors(G, v)` and `outneighbors(G, u)`, which list the parents and children of a vertex respectively"
   ]
  },
  {
   "cell_type": "code",
   "execution_count": null,
   "metadata": {
    "ExecuteTime": {
     "end_time": "2020-11-09T10:52:51.663000+01:00",
     "start_time": "2020-11-09T09:52:51.584Z"
    }
   },
   "outputs": [],
   "source": []
  },
  {
   "cell_type": "markdown",
   "metadata": {},
   "source": [
    "Implement a function `edges(G)` listing the edges of a graph"
   ]
  },
  {
   "cell_type": "code",
   "execution_count": null,
   "metadata": {
    "ExecuteTime": {
     "end_time": "2020-11-09T10:52:52.250000+01:00",
     "start_time": "2020-11-09T09:52:52.172Z"
    }
   },
   "outputs": [],
   "source": []
  },
  {
   "cell_type": "markdown",
   "metadata": {},
   "source": [
    "Implement a function `weight(G, u, v)` computing the weight of an arc"
   ]
  },
  {
   "cell_type": "code",
   "execution_count": null,
   "metadata": {
    "ExecuteTime": {
     "end_time": "2020-11-09T10:52:52.826000+01:00",
     "start_time": "2020-11-09T09:52:52.748Z"
    }
   },
   "outputs": [],
   "source": []
  },
  {
   "cell_type": "markdown",
   "metadata": {},
   "source": [
    "You can use the following function to plot a small graph:"
   ]
  },
  {
   "cell_type": "code",
   "execution_count": null,
   "metadata": {
    "ExecuteTime": {
     "end_time": "2020-11-09T10:52:56.215000+01:00",
     "start_time": "2020-11-09T09:52:53.356Z"
    }
   },
   "outputs": [],
   "source": [
    "import LightGraphs\n",
    "using GraphPlot\n",
    "\n",
    "function plot_graph(G::Graph)\n",
    "    LG = LightGraphs.SimpleGraph(nb_vertices(G))\n",
    "    for (u, v) in edges(G)\n",
    "        add_edge!(LG, u, v)\n",
    "    end\n",
    "    plotg(LG, nodelabel=1:nv(LG))\n",
    "end"
   ]
  },
  {
   "cell_type": "markdown",
   "metadata": {},
   "source": [
    "### Modifying a graph"
   ]
  },
  {
   "cell_type": "markdown",
   "metadata": {},
   "source": [
    "Implement functions `add_vertex!(G)` and `add_edge!(G, u, v, weight)`."
   ]
  },
  {
   "cell_type": "code",
   "execution_count": null,
   "metadata": {
    "ExecuteTime": {
     "end_time": "2020-11-09T10:52:59.625000+01:00",
     "start_time": "2020-11-09T09:52:59.172Z"
    },
    "scrolled": true
   },
   "outputs": [],
   "source": []
  },
  {
   "cell_type": "markdown",
   "metadata": {},
   "source": [
    "### Shortest paths"
   ]
  },
  {
   "cell_type": "markdown",
   "metadata": {
    "ExecuteTime": {
     "end_time": "2020-11-04T20:23:48.730000+01:00",
     "start_time": "2020-11-04T19:23:48.691Z"
    }
   },
   "source": [
    "Implement the Ford-Bellman algorithm"
   ]
  },
  {
   "cell_type": "code",
   "execution_count": null,
   "metadata": {
    "ExecuteTime": {
     "end_time": "2020-11-09T10:53:01.492000+01:00",
     "start_time": "2020-11-09T09:53:01.412Z"
    }
   },
   "outputs": [],
   "source": []
  },
  {
   "cell_type": "markdown",
   "metadata": {},
   "source": [
    "Implement depth-first search and topological sorting within a function `dfs`"
   ]
  },
  {
   "cell_type": "code",
   "execution_count": null,
   "metadata": {
    "ExecuteTime": {
     "end_time": "2020-11-05T15:22:50.472000+01:00",
     "start_time": "2020-11-05T14:22:50.378Z"
    }
   },
   "outputs": [],
   "source": []
  },
  {
   "cell_type": "markdown",
   "metadata": {},
   "source": [
    "Implement Dijkstra's algorithm, either in a naive way or using the priority queue of `DataStructures`"
   ]
  },
  {
   "cell_type": "code",
   "execution_count": null,
   "metadata": {},
   "outputs": [],
   "source": []
  },
  {
   "cell_type": "markdown",
   "metadata": {},
   "source": [
    "### Spanning tree"
   ]
  },
  {
   "cell_type": "markdown",
   "metadata": {},
   "source": [
    "Implement Kruskal's algorithm"
   ]
  },
  {
   "cell_type": "code",
   "execution_count": null,
   "metadata": {},
   "outputs": [],
   "source": []
  },
  {
   "cell_type": "markdown",
   "metadata": {},
   "source": [
    "### Flows and matchings"
   ]
  },
  {
   "cell_type": "markdown",
   "metadata": {},
   "source": [
    "Implement the Edmunds-Karp algorithm, using edge weights as the capacities"
   ]
  },
  {
   "cell_type": "code",
   "execution_count": null,
   "metadata": {},
   "outputs": [],
   "source": []
  },
  {
   "cell_type": "markdown",
   "metadata": {},
   "source": [
    "Implement a function checking whether a graph is bipartite"
   ]
  },
  {
   "cell_type": "code",
   "execution_count": null,
   "metadata": {},
   "outputs": [],
   "source": []
  },
  {
   "cell_type": "markdown",
   "metadata": {
    "ExecuteTime": {
     "end_time": "2020-11-04T20:26:01.473000+01:00",
     "start_time": "2020-11-04T19:26:01.450Z"
    }
   },
   "source": [
    "Implement the Hungarian algorithm"
   ]
  },
  {
   "cell_type": "code",
   "execution_count": null,
   "metadata": {},
   "outputs": [],
   "source": []
  },
  {
   "cell_type": "markdown",
   "metadata": {},
   "source": [
    "### Test your functions on real graphs"
   ]
  },
  {
   "cell_type": "code",
   "execution_count": null,
   "metadata": {},
   "outputs": [],
   "source": []
  },
  {
   "cell_type": "markdown",
   "metadata": {},
   "source": [
    "## 4. Mathematical programming"
   ]
  },
  {
   "cell_type": "markdown",
   "metadata": {},
   "source": [
    "Implement the LP formulation of the maximum flow problem"
   ]
  },
  {
   "cell_type": "code",
   "execution_count": null,
   "metadata": {},
   "outputs": [],
   "source": []
  },
  {
   "cell_type": "markdown",
   "metadata": {},
   "source": [
    "Implement the LP resolution method for the maximum spanning tree"
   ]
  },
  {
   "cell_type": "code",
   "execution_count": null,
   "metadata": {},
   "outputs": [],
   "source": []
  }
 ],
 "metadata": {
  "kernelspec": {
   "display_name": "Julia 1.5.2",
   "language": "julia",
   "name": "julia-1.5"
  },
  "language_info": {
   "file_extension": ".jl",
   "mimetype": "application/julia",
   "name": "julia",
   "version": "1.5.2"
  },
  "latex_envs": {
   "LaTeX_envs_menu_present": true,
   "autoclose": false,
   "autocomplete": true,
   "bibliofile": "biblio.bib",
   "cite_by": "apalike",
   "current_citInitial": 1,
   "eqLabelWithNumbers": true,
   "eqNumInitial": 1,
   "hotkeys": {
    "equation": "Ctrl-E",
    "itemize": "Ctrl-I"
   },
   "labels_anchors": false,
   "latex_user_defs": false,
   "report_style_numbering": false,
   "user_envs_cfg": false
  }
 },
 "nbformat": 4,
 "nbformat_minor": 2
}
