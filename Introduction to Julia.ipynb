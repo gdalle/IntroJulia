{
 "cells": [
  {
   "cell_type": "markdown",
   "metadata": {},
   "source": [
    "# Introduction to Julia"
   ]
  },
  {
   "cell_type": "markdown",
   "metadata": {},
   "source": [
    "Julia is a recent programming language that aims at combining high performance with ease of use. It is increasingly popular in the optimization community."
   ]
  },
  {
   "cell_type": "markdown",
   "metadata": {},
   "source": [
    "## 0. Preliminaries"
   ]
  },
  {
   "cell_type": "markdown",
   "metadata": {},
   "source": [
    "In this Jupyter notebook, you have access to a structured equivalent of Julia's REPL, i.e. the interactive console. Here, you can divide your code in cells to modify and run each one separately (use `Shift`+`Enter` to run a cell and move to the next one). By default, the output of a cell is the value of its last expression, you can hide it by ending the cell with `;`."
   ]
  },
  {
   "cell_type": "code",
   "execution_count": 1,
   "metadata": {
    "ExecuteTime": {
     "end_time": "2020-11-05T15:20:44.389000+01:00",
     "start_time": "2020-11-05T14:20:43.459Z"
    }
   },
   "outputs": [
    {
     "data": {
      "text/plain": [
       "3"
      ]
     },
     "execution_count": 1,
     "metadata": {},
     "output_type": "execute_result"
    }
   ],
   "source": [
    "1 + 2"
   ]
  },
  {
   "cell_type": "markdown",
   "metadata": {},
   "source": [
    "**This tutorial is quite long, especially the first part. If you want, you can skip directly to part 2 or even 3, and come back to the beginning when you don't know how to do something.**\n",
    "\n",
    "Although we will introduce some useful commands, we cannot describe all of them. A very good summary can be found at https://juliadocs.github.io/Julia-Cheat-Sheet/, and we will often refer the reader to it."
   ]
  },
  {
   "cell_type": "markdown",
   "metadata": {},
   "source": [
    "### Differences with Python"
   ]
  },
  {
   "cell_type": "markdown",
   "metadata": {},
   "source": [
    "For those who already master Python, here are the key novelties of Julia:\n",
    "- Even though they are not necessary, types are heavily used to make the code both clearer and faster.\n",
    "- There are no classes, only \"structures\" which contain data but no methods.\n",
    "- Blocks are not based on indentation but delimited by the `end` keyword.\n",
    "- Array indexing starts at `a[1]` instead of `a[0]`, and ranges `i:j` include the last index.\n",
    "- Vectorizing the code doesn't improve its speed.\n",
    "\n",
    "A more exhaustive list is available at https://docs.julialang.org/en/v1/manual/noteworthy-differences/#Noteworthy-differences-from-Python."
   ]
  },
  {
   "cell_type": "markdown",
   "metadata": {},
   "source": [
    "### Compilation"
   ]
  },
  {
   "cell_type": "markdown",
   "metadata": {},
   "source": [
    "When you run a chunk of code for the first time, it takes longer due to compilation. Don't be surprised, it is fundamental to Julia's performance, and the following runs are much faster."
   ]
  },
  {
   "cell_type": "markdown",
   "metadata": {},
   "source": [
    "### Imports"
   ]
  },
  {
   "cell_type": "markdown",
   "metadata": {},
   "source": [
    "A package can be imported with the keyword `using ...`, which makes all of its functions available without prefix (similar to the Python code `from ... import *`). If you want to keep prefixes, use `import ...` instead.\n",
    "\n",
    "Before a package can be imported, it must be installed. Here we install all the packages we will need during this tutorial. The following cell may take a while to run, especially with a slow internet connection."
   ]
  },
  {
   "cell_type": "code",
   "execution_count": 3,
   "metadata": {
    "ExecuteTime": {
     "end_time": "2020-11-05T15:21:06.853000+01:00",
     "start_time": "2020-11-05T14:21:01.835Z"
    }
   },
   "outputs": [
    {
     "name": "stderr",
     "output_type": "stream",
     "text": [
      "\u001b[32m\u001b[1m   Updating\u001b[22m\u001b[39m registry at `~/.julia/registries/General`\n"
     ]
    },
    {
     "name": "stdout",
     "output_type": "stream",
     "text": [
      "\u001b[?25l\u001b[2K"
     ]
    },
    {
     "name": "stderr",
     "output_type": "stream",
     "text": [
      "\u001b[32m\u001b[1m   Updating\u001b[22m\u001b[39m git-repo `https://github.com/JuliaRegistries/General.git`\n"
     ]
    },
    {
     "name": "stdout",
     "output_type": "stream",
     "text": [
      "\u001b[?25h"
     ]
    },
    {
     "name": "stderr",
     "output_type": "stream",
     "text": [
      "\u001b[32m\u001b[1mNo Changes\u001b[22m\u001b[39m to `~/.julia/environments/v1.5/Project.toml`\n",
      "\u001b[32m\u001b[1mNo Changes\u001b[22m\u001b[39m to `~/.julia/environments/v1.5/Manifest.toml`\n",
      "\u001b[32m\u001b[1m  Resolving\u001b[22m\u001b[39m package versions...\n",
      "\u001b[32m\u001b[1mNo Changes\u001b[22m\u001b[39m to `~/.julia/environments/v1.5/Project.toml`\n",
      "\u001b[32m\u001b[1mNo Changes\u001b[22m\u001b[39m to `~/.julia/environments/v1.5/Manifest.toml`\n"
     ]
    }
   ],
   "source": [
    "using Pkg\n",
    "Pkg.update()\n",
    "Pkg.add([\n",
    "        \"BenchmarkTools\",\n",
    "        \"GLPK\",\n",
    "        \"GraphPlot\",\n",
    "        \"JuMP\",\n",
    "        \"LightGraphs\",\n",
    "        \"PyPlot\",\n",
    "])"
   ]
  },
  {
   "cell_type": "markdown",
   "metadata": {},
   "source": [
    "## 1. The basics"
   ]
  },
  {
   "cell_type": "markdown",
   "metadata": {},
   "source": [
    "### Variables and elementary operations"
   ]
  },
  {
   "cell_type": "markdown",
   "metadata": {},
   "source": [
    "Variable assignment works as one would expect. Note that you can use LaTeX symbols by typing (for instance) \"\\beta\" + `Tab` in the REPL or a Jupyter cell. This also works for indices when typing \"u\\\\_1\" + `Tab`."
   ]
  },
  {
   "cell_type": "code",
   "execution_count": 4,
   "metadata": {
    "ExecuteTime": {
     "end_time": "2020-11-05T15:21:09.876000+01:00",
     "start_time": "2020-11-05T14:21:09.874Z"
    }
   },
   "outputs": [
    {
     "data": {
      "text/plain": [
       "10"
      ]
     },
     "execution_count": 4,
     "metadata": {},
     "output_type": "execute_result"
    }
   ],
   "source": [
    "x = 1\n",
    "ε = 0.1\n",
    "u₁ = 10"
   ]
  },
  {
   "cell_type": "markdown",
   "metadata": {},
   "source": [
    "Elementary operations are well summed up in https://juliadocs.github.io/Julia-Cheat-Sheet/. When comparing to Python, the main changes are boolean operators.."
   ]
  },
  {
   "cell_type": "markdown",
   "metadata": {},
   "source": [
    "### Types"
   ]
  },
  {
   "cell_type": "markdown",
   "metadata": {},
   "source": [
    "Like in Python, each variable in Julia has a type."
   ]
  },
  {
   "cell_type": "code",
   "execution_count": 5,
   "metadata": {
    "ExecuteTime": {
     "end_time": "2020-11-05T15:21:12.084000+01:00",
     "start_time": "2020-11-05T14:21:11.732Z"
    }
   },
   "outputs": [
    {
     "data": {
      "text/plain": [
       "(Int64, Float64, Char, String)"
      ]
     },
     "execution_count": 5,
     "metadata": {},
     "output_type": "execute_result"
    }
   ],
   "source": [
    "a = 1\n",
    "b = 1.\n",
    "c = '1'\n",
    "d = \"1\"\n",
    "typeof(a), typeof(b), typeof(c), typeof(d)"
   ]
  },
  {
   "cell_type": "markdown",
   "metadata": {},
   "source": [
    "Julia's typing system is dynamic, i.e. variables can change types, but performance can be increased by avoiding such changes and specifying the types when they are known in advance."
   ]
  },
  {
   "cell_type": "markdown",
   "metadata": {},
   "source": [
    "### Functions"
   ]
  },
  {
   "cell_type": "markdown",
   "metadata": {},
   "source": [
    "The first function you need to master is for printing:"
   ]
  },
  {
   "cell_type": "code",
   "execution_count": 6,
   "metadata": {
    "ExecuteTime": {
     "end_time": "2020-11-05T15:21:13.523000+01:00",
     "start_time": "2020-11-05T14:21:13.491Z"
    }
   },
   "outputs": [
    {
     "name": "stdout",
     "output_type": "stream",
     "text": [
      "Hello world!\n"
     ]
    }
   ],
   "source": [
    "println(\"Hello world!\")"
   ]
  },
  {
   "cell_type": "markdown",
   "metadata": {},
   "source": [
    "More generally, a function is defined with the following syntax:"
   ]
  },
  {
   "cell_type": "code",
   "execution_count": 7,
   "metadata": {
    "ExecuteTime": {
     "end_time": "2020-11-05T15:21:14.597000+01:00",
     "start_time": "2020-11-05T14:21:14.330Z"
    }
   },
   "outputs": [
    {
     "data": {
      "text/plain": [
       "addition (generic function with 1 method)"
      ]
     },
     "execution_count": 7,
     "metadata": {},
     "output_type": "execute_result"
    }
   ],
   "source": [
    "function addition(a, b)\n",
    "    println(\"I am adding stuff\")\n",
    "    return a + b\n",
    "end"
   ]
  },
  {
   "cell_type": "markdown",
   "metadata": {},
   "source": [
    "If we want, we can specify the types of the inputs and output:"
   ]
  },
  {
   "cell_type": "code",
   "execution_count": 8,
   "metadata": {
    "ExecuteTime": {
     "end_time": "2020-11-05T15:21:15.170000+01:00",
     "start_time": "2020-11-05T14:21:15.168Z"
    }
   },
   "outputs": [
    {
     "data": {
      "text/plain": [
       "addition (generic function with 2 methods)"
      ]
     },
     "execution_count": 8,
     "metadata": {},
     "output_type": "execute_result"
    }
   ],
   "source": [
    "function addition(a::Int, b::Int)::Int\n",
    "    println(\"I am adding integers\")\n",
    "    return a + b\n",
    "end"
   ]
  },
  {
   "cell_type": "markdown",
   "metadata": {},
   "source": [
    "Note that there is still only one function `addition`, but it now has two \"methods\": one for integers, and one more generic."
   ]
  },
  {
   "cell_type": "code",
   "execution_count": 9,
   "metadata": {
    "ExecuteTime": {
     "end_time": "2020-11-05T15:21:16.499000+01:00",
     "start_time": "2020-11-05T14:21:15.972Z"
    }
   },
   "outputs": [
    {
     "data": {
      "text/html": [
       "# 2 methods for generic function <b>addition</b>:<ul><li> addition(a::<b>Int64</b>, b::<b>Int64</b>) in Main at In[8]:1</li> <li> addition(a, b) in Main at In[7]:1</li> </ul>"
      ],
      "text/plain": [
       "# 2 methods for generic function \"addition\":\n",
       "[1] addition(a::Int64, b::Int64) in Main at In[8]:1\n",
       "[2] addition(a, b) in Main at In[7]:1"
      ]
     },
     "execution_count": 9,
     "metadata": {},
     "output_type": "execute_result"
    }
   ],
   "source": [
    "methods(addition)"
   ]
  },
  {
   "cell_type": "markdown",
   "metadata": {},
   "source": [
    "This is linked to a key feature of Julia called *multiple dispatch*: the program will decide at runtime which function to apply depending on the type of the arguments."
   ]
  },
  {
   "cell_type": "code",
   "execution_count": 10,
   "metadata": {
    "ExecuteTime": {
     "end_time": "2020-11-05T15:21:16.965000+01:00",
     "start_time": "2020-11-05T14:21:16.960Z"
    }
   },
   "outputs": [
    {
     "name": "stdout",
     "output_type": "stream",
     "text": [
      "I am adding integers\n"
     ]
    },
    {
     "data": {
      "text/plain": [
       "3"
      ]
     },
     "execution_count": 10,
     "metadata": {},
     "output_type": "execute_result"
    }
   ],
   "source": [
    "addition(1, 2)"
   ]
  },
  {
   "cell_type": "code",
   "execution_count": 11,
   "metadata": {
    "ExecuteTime": {
     "end_time": "2020-11-05T15:21:17.670000+01:00",
     "start_time": "2020-11-05T14:21:17.477Z"
    }
   },
   "outputs": [
    {
     "name": "stdout",
     "output_type": "stream",
     "text": [
      "I am adding stuff\n"
     ]
    },
    {
     "data": {
      "text/plain": [
       "1.5"
      ]
     },
     "execution_count": 11,
     "metadata": {},
     "output_type": "execute_result"
    }
   ],
   "source": [
    "addition(1, 0.5)"
   ]
  },
  {
   "cell_type": "markdown",
   "metadata": {},
   "source": [
    "As in Python, you can add optional and keyword arguments."
   ]
  },
  {
   "cell_type": "markdown",
   "metadata": {},
   "source": [
    "### Arrays"
   ]
  },
  {
   "cell_type": "markdown",
   "metadata": {},
   "source": [
    "Arrays can be created and extended just like in Python, using square brackets:"
   ]
  },
  {
   "cell_type": "code",
   "execution_count": 12,
   "metadata": {
    "ExecuteTime": {
     "end_time": "2020-11-05T15:21:19.413000+01:00",
     "start_time": "2020-11-05T14:21:19.267Z"
    }
   },
   "outputs": [
    {
     "name": "stdout",
     "output_type": "stream",
     "text": [
      "[3, 2, 1]\n"
     ]
    }
   ],
   "source": [
    "a = [3, 2]\n",
    "push!(a, 1)\n",
    "println(a)"
   ]
  },
  {
   "cell_type": "markdown",
   "metadata": {},
   "source": [
    "However, if we know the type and size of the array in advance, it is better to allocate the memory first (with the `undef` object):"
   ]
  },
  {
   "cell_type": "code",
   "execution_count": 13,
   "metadata": {
    "ExecuteTime": {
     "end_time": "2020-11-05T15:21:20.825000+01:00",
     "start_time": "2020-11-05T14:21:20.063Z"
    }
   },
   "outputs": [
    {
     "data": {
      "text/plain": [
       "3-element Array{Int64,1}:\n",
       " 0\n",
       " 0\n",
       " 0"
      ]
     },
     "execution_count": 13,
     "metadata": {},
     "output_type": "execute_result"
    }
   ],
   "source": [
    "a = Array{Int, 1}(undef, 3)"
   ]
  },
  {
   "cell_type": "markdown",
   "metadata": {},
   "source": [
    "These random numbers are here because if we don't write any value in it, the array still contains whatever was in memory there before. We must therefore fill it:"
   ]
  },
  {
   "cell_type": "code",
   "execution_count": 15,
   "metadata": {
    "ExecuteTime": {
     "end_time": "2020-11-05T15:21:30.882000+01:00",
     "start_time": "2020-11-05T14:21:30.878Z"
    }
   },
   "outputs": [
    {
     "name": "stdout",
     "output_type": "stream",
     "text": [
      "[3, 2, 1]\n"
     ]
    }
   ],
   "source": [
    "a[1], a[2], a[3] = 3, 2, 1\n",
    "println(a)"
   ]
  },
  {
   "cell_type": "markdown",
   "metadata": {},
   "source": [
    "The syntax `Array{T, d}` denotes an array with element type `T` and `d` dimensions (or axes). For $d=1$ and $d=2$ we have shortcuts:"
   ]
  },
  {
   "cell_type": "code",
   "execution_count": 16,
   "metadata": {
    "ExecuteTime": {
     "end_time": "2020-11-05T15:21:31.859000+01:00",
     "start_time": "2020-11-05T14:21:31.855Z"
    }
   },
   "outputs": [],
   "source": [
    "v = Vector{Float64}(undef, 2)\n",
    "M = Matrix{Float64}(undef, 3, 2);"
   ]
  },
  {
   "cell_type": "markdown",
   "metadata": {},
   "source": [
    "Vectorizing a function `f` in Julia is done by adding a dot after its name."
   ]
  },
  {
   "cell_type": "code",
   "execution_count": 17,
   "metadata": {
    "ExecuteTime": {
     "end_time": "2020-11-05T15:21:32.940000+01:00",
     "start_time": "2020-11-05T14:21:32.868Z"
    }
   },
   "outputs": [
    {
     "data": {
      "text/plain": [
       "square (generic function with 1 method)"
      ]
     },
     "execution_count": 17,
     "metadata": {},
     "output_type": "execute_result"
    }
   ],
   "source": [
    "function square(n::Int)::Int\n",
    "    return n^2\n",
    "end"
   ]
  },
  {
   "cell_type": "code",
   "execution_count": 18,
   "metadata": {
    "ExecuteTime": {
     "end_time": "2020-11-05T15:21:33.411000+01:00",
     "start_time": "2020-11-05T14:21:33.366Z"
    }
   },
   "outputs": [
    {
     "data": {
      "text/plain": [
       "3-element Array{Int64,1}:\n",
       " 9\n",
       " 4\n",
       " 1"
      ]
     },
     "execution_count": 18,
     "metadata": {},
     "output_type": "execute_result"
    }
   ],
   "source": [
    "square.(a)"
   ]
  },
  {
   "cell_type": "markdown",
   "metadata": {},
   "source": [
    "The same goes for elementary operators, except the dot comes before:"
   ]
  },
  {
   "cell_type": "code",
   "execution_count": 19,
   "metadata": {
    "ExecuteTime": {
     "end_time": "2020-11-05T15:21:34.694000+01:00",
     "start_time": "2020-11-05T14:21:34.635Z"
    }
   },
   "outputs": [
    {
     "data": {
      "text/plain": [
       "3-element Array{Int64,1}:\n",
       " 6\n",
       " 4\n",
       " 2"
      ]
     },
     "execution_count": 19,
     "metadata": {},
     "output_type": "execute_result"
    }
   ],
   "source": [
    "a.*2"
   ]
  },
  {
   "cell_type": "code",
   "execution_count": 20,
   "metadata": {
    "ExecuteTime": {
     "end_time": "2020-11-05T15:21:35.967000+01:00",
     "start_time": "2020-11-05T14:21:35.064Z"
    }
   },
   "outputs": [
    {
     "data": {
      "text/plain": [
       "3-element BitArray{1}:\n",
       " 0\n",
       " 1\n",
       " 0"
      ]
     },
     "execution_count": 20,
     "metadata": {},
     "output_type": "execute_result"
    }
   ],
   "source": [
    "a.*2 .== a.^2"
   ]
  },
  {
   "cell_type": "markdown",
   "metadata": {},
   "source": [
    "Beyond arrays, Julia also offers built-in support for common data structures such as sets and dictionaries."
   ]
  },
  {
   "cell_type": "markdown",
   "metadata": {},
   "source": [
    "### Conditions and loops"
   ]
  },
  {
   "cell_type": "markdown",
   "metadata": {},
   "source": [
    "Here is an example of `if`-`then`-`else` block:"
   ]
  },
  {
   "cell_type": "code",
   "execution_count": 21,
   "metadata": {
    "ExecuteTime": {
     "end_time": "2020-11-05T15:21:37.356000+01:00",
     "start_time": "2020-11-05T14:21:37.279Z"
    }
   },
   "outputs": [
    {
     "data": {
      "text/plain": [
       "test_sign (generic function with 1 method)"
      ]
     },
     "execution_count": 21,
     "metadata": {},
     "output_type": "execute_result"
    }
   ],
   "source": [
    "function test_sign(n::Int)::String\n",
    "    if n > 0\n",
    "        return \"strictly positive\"\n",
    "    elseif n < 0\n",
    "        return \"strictly negative\"\n",
    "    else\n",
    "        return \"zero\"\n",
    "    end\n",
    "end"
   ]
  },
  {
   "cell_type": "markdown",
   "metadata": {},
   "source": [
    "Here is an example of `for` loop:"
   ]
  },
  {
   "cell_type": "code",
   "execution_count": 22,
   "metadata": {
    "ExecuteTime": {
     "end_time": "2020-11-05T15:21:38.323000+01:00",
     "start_time": "2020-11-05T14:21:38.243Z"
    }
   },
   "outputs": [
    {
     "data": {
      "text/plain": [
       "fibonacci (generic function with 1 method)"
      ]
     },
     "execution_count": 22,
     "metadata": {},
     "output_type": "execute_result"
    }
   ],
   "source": [
    "function fibonacci(n::Int)::Int\n",
    "    a, b = 0, 1\n",
    "    for k = 1:n\n",
    "        a, b = b, a + b\n",
    "    end\n",
    "    return a\n",
    "end"
   ]
  },
  {
   "cell_type": "markdown",
   "metadata": {},
   "source": [
    "Loops also allow us to define arrays by comprehension:"
   ]
  },
  {
   "cell_type": "code",
   "execution_count": 23,
   "metadata": {
    "ExecuteTime": {
     "end_time": "2020-11-05T15:21:39.145000+01:00",
     "start_time": "2020-11-05T14:21:39.123Z"
    }
   },
   "outputs": [
    {
     "data": {
      "text/plain": [
       "11-element Array{Int64,1}:\n",
       "    1\n",
       "    2\n",
       "    4\n",
       "    8\n",
       "   16\n",
       "   32\n",
       "   64\n",
       "  128\n",
       "  256\n",
       "  512\n",
       " 1024"
      ]
     },
     "execution_count": 23,
     "metadata": {},
     "output_type": "execute_result"
    }
   ],
   "source": [
    "powers = [2^k for k = 0:10]"
   ]
  },
  {
   "cell_type": "markdown",
   "metadata": {},
   "source": [
    "Finally, here is an example of `while` loop:"
   ]
  },
  {
   "cell_type": "code",
   "execution_count": 24,
   "metadata": {
    "ExecuteTime": {
     "end_time": "2020-11-05T15:21:40.040000+01:00",
     "start_time": "2020-11-05T14:21:39.966Z"
    }
   },
   "outputs": [
    {
     "data": {
      "text/plain": [
       "collatz_iterations (generic function with 1 method)"
      ]
     },
     "execution_count": 24,
     "metadata": {},
     "output_type": "execute_result"
    }
   ],
   "source": [
    "collatz(n::Int)::Int = (n%2 == 0) ? n÷2 : 3n+1\n",
    "\n",
    "function collatz_iterations(n::Int)::Int\n",
    "    it = 0\n",
    "    while n > 1\n",
    "        n = collatz(n)\n",
    "        it += 1\n",
    "    end\n",
    "    return it\n",
    "end"
   ]
  },
  {
   "cell_type": "markdown",
   "metadata": {},
   "source": [
    "### Structures"
   ]
  },
  {
   "cell_type": "markdown",
   "metadata": {},
   "source": [
    "Julia's notion of object is nothing more than a tuple with named components. We can define one like this:"
   ]
  },
  {
   "cell_type": "code",
   "execution_count": 25,
   "metadata": {
    "ExecuteTime": {
     "end_time": "2020-11-05T15:21:41.149000+01:00",
     "start_time": "2020-11-05T14:21:41.142Z"
    }
   },
   "outputs": [],
   "source": [
    "struct Point3D\n",
    "    name::String\n",
    "    x::Float64\n",
    "    y::Float64\n",
    "    z::Float64\n",
    "end"
   ]
  },
  {
   "cell_type": "markdown",
   "metadata": {},
   "source": [
    "To create an object, just apply its name as a function:"
   ]
  },
  {
   "cell_type": "code",
   "execution_count": 26,
   "metadata": {
    "ExecuteTime": {
     "end_time": "2020-11-05T15:21:42.155000+01:00",
     "start_time": "2020-11-05T14:21:41.941Z"
    }
   },
   "outputs": [
    {
     "data": {
      "text/plain": [
       "Point3D(\"HOME\", 1.0, 7.0, -13.0)"
      ]
     },
     "execution_count": 26,
     "metadata": {},
     "output_type": "execute_result"
    }
   ],
   "source": [
    "p = Point3D(\"HOME\", 1., 7., -13.)"
   ]
  },
  {
   "cell_type": "markdown",
   "metadata": {},
   "source": [
    "The structures themselves contain no methods. However, we can define some by writing functions that take an input with the type we defined:"
   ]
  },
  {
   "cell_type": "code",
   "execution_count": 27,
   "metadata": {
    "ExecuteTime": {
     "end_time": "2020-11-05T15:21:42.791000+01:00",
     "start_time": "2020-11-05T14:21:42.721Z"
    }
   },
   "outputs": [
    {
     "data": {
      "text/plain": [
       "display (generic function with 1 method)"
      ]
     },
     "execution_count": 27,
     "metadata": {},
     "output_type": "execute_result"
    }
   ],
   "source": [
    "function display(p::Point3D)\n",
    "    name, x, y, z = p.name, p.x, p.y, p.z\n",
    "    println(\"I am the point $name with coordinates ($x, $y, $z)\")\n",
    "end"
   ]
  },
  {
   "cell_type": "code",
   "execution_count": 28,
   "metadata": {
    "ExecuteTime": {
     "end_time": "2020-11-05T15:21:43.140000+01:00",
     "start_time": "2020-11-05T14:21:43.125Z"
    }
   },
   "outputs": [
    {
     "name": "stdout",
     "output_type": "stream",
     "text": [
      "I am the point HOME with coordinates (1.0, 7.0, -13.0)\n"
     ]
    }
   ],
   "source": [
    "display(p)"
   ]
  },
  {
   "cell_type": "markdown",
   "metadata": {},
   "source": [
    "### Plots"
   ]
  },
  {
   "cell_type": "markdown",
   "metadata": {},
   "source": [
    "Plots can be generated with a Julia version of `matplotlib.pyplot`:"
   ]
  },
  {
   "cell_type": "code",
   "execution_count": 29,
   "metadata": {
    "ExecuteTime": {
     "end_time": "2020-11-05T15:21:48.217000+01:00",
     "start_time": "2020-11-05T14:21:44.207Z"
    }
   },
   "outputs": [
    {
     "data": {
      "text/plain": [
       "false"
      ]
     },
     "execution_count": 29,
     "metadata": {},
     "output_type": "execute_result"
    }
   ],
   "source": [
    "using PyPlot\n",
    "pygui(false)"
   ]
  },
  {
   "cell_type": "code",
   "execution_count": 30,
   "metadata": {
    "ExecuteTime": {
     "end_time": "2020-11-05T15:21:51.079000+01:00",
     "start_time": "2020-11-05T14:21:44.529Z"
    }
   },
   "outputs": [
    {
     "data": {
      "image/png": "[encoded data removed]",
      "text/plain": [
       "Figure(PyObject <Figure size 640x480 with 1 Axes>)"
      ]
     },
     "metadata": {},
     "output_type": "display_data"
    }
   ],
   "source": [
    "x = collect(1:0.2:10)\n",
    "y = sin.(x)\n",
    "plot(x, y, color=\"blue\", label=\"curve\")\n",
    "scatter(x, y, color=\"red\", label=\"points\")\n",
    "xlabel(\"x axis\")\n",
    "ylabel(\"y axis\")\n",
    "legend()\n",
    "title(\"The sine function\")\n",
    "show()"
   ]
  },
  {
   "cell_type": "markdown",
   "metadata": {},
   "source": [
    "### Optimization"
   ]
  },
  {
   "cell_type": "markdown",
   "metadata": {},
   "source": [
    "The standard library for mathematical programming in Julia is called `JuMP`, a quick tutorial is available at https://jump.dev/JuMP.jl/stable/quickstart/."
   ]
  },
  {
   "cell_type": "markdown",
   "metadata": {},
   "source": [
    "### Miscellaneous"
   ]
  },
  {
   "cell_type": "markdown",
   "metadata": {},
   "source": [
    "To  display the documentation (docstring) of a function, simply type `?` followed by its name in the REPL:"
   ]
  },
  {
   "cell_type": "code",
   "execution_count": 31,
   "metadata": {
    "ExecuteTime": {
     "end_time": "2020-11-05T15:21:52.428000+01:00",
     "start_time": "2020-11-05T14:21:49.807Z"
    }
   },
   "outputs": [
    {
     "name": "stdout",
     "output_type": "stream",
     "text": [
      "search: \u001b[0m\u001b[1ms\u001b[22m\u001b[0m\u001b[1mi\u001b[22m\u001b[0m\u001b[1mn\u001b[22m \u001b[0m\u001b[1ms\u001b[22m\u001b[0m\u001b[1mi\u001b[22m\u001b[0m\u001b[1mn\u001b[22mh \u001b[0m\u001b[1ms\u001b[22m\u001b[0m\u001b[1mi\u001b[22m\u001b[0m\u001b[1mn\u001b[22md \u001b[0m\u001b[1ms\u001b[22m\u001b[0m\u001b[1mi\u001b[22m\u001b[0m\u001b[1mn\u001b[22mc \u001b[0m\u001b[1ms\u001b[22m\u001b[0m\u001b[1mi\u001b[22m\u001b[0m\u001b[1mn\u001b[22mpi \u001b[0m\u001b[1ms\u001b[22m\u001b[0m\u001b[1mi\u001b[22m\u001b[0m\u001b[1mn\u001b[22mcos \u001b[0m\u001b[1ms\u001b[22m\u001b[0m\u001b[1mi\u001b[22m\u001b[0m\u001b[1mn\u001b[22mcosd a\u001b[0m\u001b[1ms\u001b[22m\u001b[0m\u001b[1mi\u001b[22m\u001b[0m\u001b[1mn\u001b[22m u\u001b[0m\u001b[1ms\u001b[22m\u001b[0m\u001b[1mi\u001b[22m\u001b[0m\u001b[1mn\u001b[22mg i\u001b[0m\u001b[1ms\u001b[22m\u001b[0m\u001b[1mi\u001b[22m\u001b[0m\u001b[1mn\u001b[22mf a\u001b[0m\u001b[1ms\u001b[22m\u001b[0m\u001b[1mi\u001b[22m\u001b[0m\u001b[1mn\u001b[22mh a\u001b[0m\u001b[1ms\u001b[22m\u001b[0m\u001b[1mi\u001b[22m\u001b[0m\u001b[1mn\u001b[22md\n",
      "\n"
     ]
    },
    {
     "data": {
      "text/latex": [
       "\\begin{verbatim}\n",
       "sin(x)\n",
       "\\end{verbatim}\n",
       "Compute sine of \\texttt{x}, where \\texttt{x} is in radians.\n",
       "\n",
       "\\rule{\\textwidth}{1pt}\n",
       "\\begin{verbatim}\n",
       "sin(A::AbstractMatrix)\n",
       "\\end{verbatim}\n",
       "Compute the matrix sine of a square matrix \\texttt{A}.\n",
       "\n",
       "If \\texttt{A} is symmetric or Hermitian, its eigendecomposition (\\href{@ref}{\\texttt{eigen}}) is used to compute the sine. Otherwise, the sine is determined by calling \\href{@ref}{\\texttt{exp}}.\n",
       "\n",
       "\\section{Examples}\n",
       "\\begin{verbatim}\n",
       "julia> sin(fill(1.0, (2,2)))\n",
       "2×2 Array{Float64,2}:\n",
       " 0.454649  0.454649\n",
       " 0.454649  0.454649\n",
       "\\end{verbatim}\n"
      ],
      "text/markdown": [
       "```\n",
       "sin(x)\n",
       "```\n",
       "\n",
       "Compute sine of `x`, where `x` is in radians.\n",
       "\n",
       "---\n",
       "\n",
       "```\n",
       "sin(A::AbstractMatrix)\n",
       "```\n",
       "\n",
       "Compute the matrix sine of a square matrix `A`.\n",
       "\n",
       "If `A` is symmetric or Hermitian, its eigendecomposition ([`eigen`](@ref)) is used to compute the sine. Otherwise, the sine is determined by calling [`exp`](@ref).\n",
       "\n",
       "# Examples\n",
       "\n",
       "```jldoctest\n",
       "julia> sin(fill(1.0, (2,2)))\n",
       "2×2 Array{Float64,2}:\n",
       " 0.454649  0.454649\n",
       " 0.454649  0.454649\n",
       "```\n"
      ],
      "text/plain": [
       "\u001b[36m  sin(x)\u001b[39m\n",
       "\n",
       "  Compute sine of \u001b[36mx\u001b[39m, where \u001b[36mx\u001b[39m is in radians.\n",
       "\n",
       "  ────────────────────────────────────────────────────────────────────────────\n",
       "\n",
       "\u001b[36m  sin(A::AbstractMatrix)\u001b[39m\n",
       "\n",
       "  Compute the matrix sine of a square matrix \u001b[36mA\u001b[39m.\n",
       "\n",
       "  If \u001b[36mA\u001b[39m is symmetric or Hermitian, its eigendecomposition (\u001b[36meigen\u001b[39m) is used to\n",
       "  compute the sine. Otherwise, the sine is determined by calling \u001b[36mexp\u001b[39m.\n",
       "\n",
       "\u001b[1m  Examples\u001b[22m\n",
       "\u001b[1m  ≡≡≡≡≡≡≡≡≡≡\u001b[22m\n",
       "\n",
       "\u001b[36m  julia> sin(fill(1.0, (2,2)))\u001b[39m\n",
       "\u001b[36m  2×2 Array{Float64,2}:\u001b[39m\n",
       "\u001b[36m   0.454649  0.454649\u001b[39m\n",
       "\u001b[36m   0.454649  0.454649\u001b[39m"
      ]
     },
     "execution_count": 31,
     "metadata": {},
     "output_type": "execute_result"
    }
   ],
   "source": [
    "?sin"
   ]
  },
  {
   "cell_type": "markdown",
   "metadata": {},
   "source": [
    "Comments start with `#`"
   ]
  },
  {
   "cell_type": "code",
   "execution_count": 32,
   "metadata": {
    "ExecuteTime": {
     "end_time": "2020-11-05T15:21:52.429000+01:00",
     "start_time": "2020-11-05T14:21:51.584Z"
    }
   },
   "outputs": [],
   "source": [
    "# this is a comment"
   ]
  },
  {
   "cell_type": "markdown",
   "metadata": {},
   "source": [
    "Error messages can be generated using the following function. You can also throw and catch more sophisticated exceptions."
   ]
  },
  {
   "cell_type": "code",
   "execution_count": 33,
   "metadata": {
    "ExecuteTime": {
     "end_time": "2020-11-05T15:21:53.995000+01:00",
     "start_time": "2020-11-05T14:21:53.423Z"
    }
   },
   "outputs": [
    {
     "ename": "LoadError",
     "evalue": "You made a serious mistake",
     "output_type": "error",
     "traceback": [
      "You made a serious mistake",
      "",
      "Stacktrace:",
      " [1] error(::String) at ./error.jl:33",
      " [2] top-level scope at In[33]:1",
      " [3] include_string(::Function, ::Module, ::String, ::String) at ./loading.jl:1091",
      " [4] execute_code(::String, ::String) at /home/guillaume/.julia/packages/IJulia/a1SNk/src/execute_request.jl:27",
      " [5] execute_request(::ZMQ.Socket, ::IJulia.Msg) at /home/guillaume/.julia/packages/IJulia/a1SNk/src/execute_request.jl:86",
      " [6] #invokelatest#1 at ./essentials.jl:710 [inlined]",
      " [7] invokelatest at ./essentials.jl:709 [inlined]",
      " [8] eventloop(::ZMQ.Socket) at /home/guillaume/.julia/packages/IJulia/a1SNk/src/eventloop.jl:8",
      " [9] (::IJulia.var\"#15#18\")() at ./task.jl:356"
     ]
    }
   ],
   "source": [
    "error(\"You made a serious mistake\")"
   ]
  },
  {
   "cell_type": "markdown",
   "metadata": {},
   "source": [
    "Functions that modify one or more of their arguments typically end with `!`:"
   ]
  },
  {
   "cell_type": "code",
   "execution_count": 34,
   "metadata": {
    "ExecuteTime": {
     "end_time": "2020-11-05T15:21:55.451000+01:00",
     "start_time": "2020-11-05T14:21:55.312Z"
    }
   },
   "outputs": [
    {
     "data": {
      "text/plain": [
       "add_one! (generic function with 1 method)"
      ]
     },
     "execution_count": 34,
     "metadata": {},
     "output_type": "execute_result"
    }
   ],
   "source": [
    "function add_one!(x::Vector{Int})\n",
    "    n = length(x)\n",
    "    for i = 1:n\n",
    "        x[i] += 1\n",
    "    end\n",
    "end"
   ]
  },
  {
   "cell_type": "markdown",
   "metadata": {},
   "source": [
    "The execution time of a function can be measured as follows:"
   ]
  },
  {
   "cell_type": "code",
   "execution_count": 35,
   "metadata": {
    "ExecuteTime": {
     "end_time": "2020-11-05T15:21:57.080000+01:00",
     "start_time": "2020-11-05T14:21:56.112Z"
    }
   },
   "outputs": [],
   "source": [
    "using BenchmarkTools"
   ]
  },
  {
   "cell_type": "code",
   "execution_count": 36,
   "metadata": {
    "ExecuteTime": {
     "end_time": "2020-11-05T15:22:00.752000+01:00",
     "start_time": "2020-11-05T14:21:56.496Z"
    },
    "scrolled": true
   },
   "outputs": [
    {
     "data": {
      "text/plain": [
       "2.554588235294118e-7"
      ]
     },
     "execution_count": 36,
     "metadata": {},
     "output_type": "execute_result"
    }
   ],
   "source": [
    "Δt = @belapsed (M = rand(5, 5); N = M^2)"
   ]
  },
  {
   "cell_type": "markdown",
   "metadata": {
    "ExecuteTime": {
     "end_time": "2020-11-05T13:39:08.863000+01:00",
     "start_time": "2020-11-05T12:39:08.323Z"
    }
   },
   "source": [
    "The Julia equivalent of Python's `None` is called `nothing`. The constant `NaN` also exists in Julia, it has type `Float64`."
   ]
  },
  {
   "cell_type": "markdown",
   "metadata": {},
   "source": [
    "## 2. Linear recurrent sequences"
   ]
  },
  {
   "cell_type": "markdown",
   "metadata": {},
   "source": [
    "In this problem, we go through different ways of computing the terms of the sequence \n",
    "\n",
    "\\begin{align*}\n",
    "    x_n & = w_1 x_{n-1} + ... + w_d x_{n-d}\n",
    "\\end{align*}\n",
    "\n",
    "whose initial values are\n",
    "\n",
    "\\begin{align*}\n",
    "    x_1 & = y_1 \\\\\n",
    "    &~\\vdots \\\\\n",
    "    x_d & = y_d\n",
    "\\end{align*}\n",
    "\n",
    "As you have surely noticed by now, Jupyter notebooks can also accomodate $\\LaTeX$ code."
   ]
  },
  {
   "cell_type": "markdown",
   "metadata": {},
   "source": [
    "### 2.1 Recursive computation"
   ]
  },
  {
   "cell_type": "markdown",
   "metadata": {},
   "source": [
    "Implement a function `x_rec(w::Vector{Float64}, y::Vector{Float64}, n::Int)::Float64` computing $x_n$ recursively.\n",
    "\n",
    "Do not use it for $n > 30$ or your computer will explode."
   ]
  },
  {
   "cell_type": "code",
   "execution_count": 37,
   "metadata": {
    "ExecuteTime": {
     "end_time": "2020-11-05T15:22:07.452000+01:00",
     "start_time": "2020-11-05T14:22:06.933Z"
    }
   },
   "outputs": [
    {
     "data": {
      "text/plain": [
       "x_rec (generic function with 1 method)"
      ]
     },
     "execution_count": 37,
     "metadata": {},
     "output_type": "execute_result"
    }
   ],
   "source": [
    "function x_rec(w::Vector{Float64}, y::Vector{Float64}, n::Int)::Float64\n",
    "    if n > 30\n",
    "        @warn \"n=$n is too large for recursive computation: returning NaN\"\n",
    "        return NaN\n",
    "    end\n",
    "    d = length(w)\n",
    "    if n <= d\n",
    "        return y[n]\n",
    "    else\n",
    "        return sum(w[k] * x_rec(w, y, n-k) for k = 1:d)\n",
    "    end\n",
    "end"
   ]
  },
  {
   "cell_type": "code",
   "execution_count": 38,
   "metadata": {
    "ExecuteTime": {
     "end_time": "2020-11-05T15:22:08.152000+01:00",
     "start_time": "2020-11-05T14:22:08.027Z"
    }
   },
   "outputs": [],
   "source": [
    "@assert x_rec([1., 1.], [1., 1.], 10) ≈ 55."
   ]
  },
  {
   "cell_type": "markdown",
   "metadata": {},
   "source": [
    "Implement a function `x_loop` computing $x_n$ using a loop."
   ]
  },
  {
   "cell_type": "code",
   "execution_count": 39,
   "metadata": {
    "ExecuteTime": {
     "end_time": "2020-11-05T15:22:09.274000+01:00",
     "start_time": "2020-11-05T14:22:09.192Z"
    }
   },
   "outputs": [
    {
     "data": {
      "text/plain": [
       "x_loop (generic function with 1 method)"
      ]
     },
     "execution_count": 39,
     "metadata": {},
     "output_type": "execute_result"
    }
   ],
   "source": [
    "function x_loop(w::Vector{Float64}, y::Vector{Float64}, n::Int)::Float64\n",
    "    x = Vector{Float64}(undef, n)\n",
    "    d = length(w)\n",
    "    x[1:min(d, n)] .= y[1:min(d, n)]\n",
    "    for k = d+1:n\n",
    "        x[k] = sum(w[i] * x[k-i] for i = 1:d)\n",
    "    end\n",
    "    return x[n]\n",
    "end"
   ]
  },
  {
   "cell_type": "code",
   "execution_count": 40,
   "metadata": {
    "ExecuteTime": {
     "end_time": "2020-11-05T15:22:10.230000+01:00",
     "start_time": "2020-11-05T14:22:10.103Z"
    }
   },
   "outputs": [],
   "source": [
    "@assert x_loop([1., 1.], [1., 1.], 10) ≈ 55."
   ]
  },
  {
   "cell_type": "markdown",
   "metadata": {},
   "source": [
    "Implement a function `build_M` constructing the matrix\n",
    "\\begin{align*}\n",
    "M = \\begin{pmatrix}\n",
    "0 & 1 & 0 & \\cdots & & 0 \\\\\n",
    "0 & 0 & 1 & 0 & \\cdots & 0 \\\\\n",
    "  & & \\ddots & \\ddots & \\ddots & \\vdots\\\\\n",
    "\\vdots & & &  0 & 1 & 0 \\\\\n",
    "& & & & 0 & 1 \\\\\n",
    "w_1 & w_2 &  & \\cdots &  & w_d\n",
    "\\end{pmatrix}\n",
    "\\end{align*}"
   ]
  },
  {
   "cell_type": "code",
   "execution_count": 41,
   "metadata": {
    "ExecuteTime": {
     "end_time": "2020-11-05T15:22:16.755000+01:00",
     "start_time": "2020-11-05T14:22:16.677Z"
    }
   },
   "outputs": [
    {
     "data": {
      "text/plain": [
       "build_M (generic function with 1 method)"
      ]
     },
     "execution_count": 41,
     "metadata": {},
     "output_type": "execute_result"
    }
   ],
   "source": [
    "function build_M(w::Vector{Float64})::Matrix{Float64}\n",
    "     d = length(w)\n",
    "    M = zeros(Float64, d, d)\n",
    "    for i = 1:d-1\n",
    "        M[i, i+1] = 1.\n",
    "    end\n",
    "    M[end, :] .= w\n",
    "    return M\n",
    "end"
   ]
  },
  {
   "cell_type": "code",
   "execution_count": 42,
   "metadata": {
    "ExecuteTime": {
     "end_time": "2020-11-05T15:22:17.459000+01:00",
     "start_time": "2020-11-05T14:22:17.188Z"
    }
   },
   "outputs": [],
   "source": [
    "@assert build_M([1., 2., 3.]) ≈ [0. 1. 0. ; 0. 0. 1. ; 1. 2. 3.]"
   ]
  },
  {
   "cell_type": "markdown",
   "metadata": {},
   "source": [
    "Implement a function `x_pow` computing $x_n$ using the powers of $M$."
   ]
  },
  {
   "cell_type": "code",
   "execution_count": 43,
   "metadata": {
    "ExecuteTime": {
     "end_time": "2020-11-05T15:22:19.229000+01:00",
     "start_time": "2020-11-05T14:22:19.158Z"
    }
   },
   "outputs": [
    {
     "data": {
      "text/plain": [
       "x_pow (generic function with 1 method)"
      ]
     },
     "execution_count": 43,
     "metadata": {},
     "output_type": "execute_result"
    }
   ],
   "source": [
    "function x_pow(w::Vector{Float64}, y::Vector{Float64}, n::Int)::Float64\n",
    "    M = build_M(w)\n",
    "    return (M^(n-1) * y)[1]\n",
    "end"
   ]
  },
  {
   "cell_type": "code",
   "execution_count": 44,
   "metadata": {
    "ExecuteTime": {
     "end_time": "2020-11-05T15:22:19.912000+01:00",
     "start_time": "2020-11-05T14:22:19.753Z"
    }
   },
   "outputs": [],
   "source": [
    "@assert x_pow([1., 1.], [1., 1.], 10) ≈ 55."
   ]
  },
  {
   "cell_type": "markdown",
   "metadata": {},
   "source": [
    "Implement a function `pow_eigen` computing the powers of a matrix using its eigendecomposition, assuming it exists."
   ]
  },
  {
   "cell_type": "code",
   "execution_count": 45,
   "metadata": {
    "ExecuteTime": {
     "end_time": "2020-11-05T15:22:21.575000+01:00",
     "start_time": "2020-11-05T14:22:21.571Z"
    }
   },
   "outputs": [],
   "source": [
    "using LinearAlgebra"
   ]
  },
  {
   "cell_type": "code",
   "execution_count": 46,
   "metadata": {
    "ExecuteTime": {
     "end_time": "2020-11-05T15:22:22.312000+01:00",
     "start_time": "2020-11-05T14:22:22.230Z"
    }
   },
   "outputs": [
    {
     "data": {
      "text/plain": [
       "pow_eigen (generic function with 1 method)"
      ]
     },
     "execution_count": 46,
     "metadata": {},
     "output_type": "execute_result"
    }
   ],
   "source": [
    "function pow_eigen(M::Matrix{Float64}, n::Int)::Matrix{Float64}\n",
    "    factorization = eigen(M)\n",
    "    λ = factorization.values\n",
    "    P = factorization.vectors\n",
    "    return real.(P * Diagonal(λ .^n) * inv(P))\n",
    "end"
   ]
  },
  {
   "cell_type": "code",
   "execution_count": 47,
   "metadata": {
    "ExecuteTime": {
     "end_time": "2020-11-05T15:22:23.657000+01:00",
     "start_time": "2020-11-05T14:22:22.836Z"
    }
   },
   "outputs": [],
   "source": [
    "randM = rand(3, 3)\n",
    "@assert pow_eigen(randM + randM', 5) ≈ (randM + randM')^5"
   ]
  },
  {
   "cell_type": "markdown",
   "metadata": {},
   "source": [
    "Implement a function `x_eigen` computing $x_n$ using the eigendecomposition of $M$."
   ]
  },
  {
   "cell_type": "code",
   "execution_count": 48,
   "metadata": {
    "ExecuteTime": {
     "end_time": "2020-11-05T15:22:24.396000+01:00",
     "start_time": "2020-11-05T14:22:24.311Z"
    }
   },
   "outputs": [
    {
     "data": {
      "text/plain": [
       "x_eigen (generic function with 1 method)"
      ]
     },
     "execution_count": 48,
     "metadata": {},
     "output_type": "execute_result"
    }
   ],
   "source": [
    "function x_eigen(w::Vector{Float64}, y::Vector{Float64}, n::Int)::Float64\n",
    "    M = build_M(w)\n",
    "    return (pow_eigen(M, n-1) * y)[1]\n",
    "end"
   ]
  },
  {
   "cell_type": "code",
   "execution_count": 49,
   "metadata": {
    "ExecuteTime": {
     "end_time": "2020-11-05T15:22:24.915000+01:00",
     "start_time": "2020-11-05T14:22:24.899Z"
    }
   },
   "outputs": [],
   "source": [
    "@assert x_eigen([1., 1.], [1., 1.], 10) ≈ 55."
   ]
  },
  {
   "cell_type": "markdown",
   "metadata": {},
   "source": [
    "Compare the execution times of all your functions for various values of $n$ and $d$. Conclude on the fastest approach."
   ]
  },
  {
   "cell_type": "code",
   "execution_count": 50,
   "metadata": {
    "ExecuteTime": {
     "end_time": "2020-11-05T15:22:26.315000+01:00",
     "start_time": "2020-11-05T14:22:26.295Z"
    }
   },
   "outputs": [],
   "source": [
    "using ProgressMeter"
   ]
  },
  {
   "cell_type": "code",
   "execution_count": 51,
   "metadata": {
    "ExecuteTime": {
     "end_time": "2020-11-05T15:22:27.083000+01:00",
     "start_time": "2020-11-05T14:22:26.996Z"
    }
   },
   "outputs": [
    {
     "data": {
      "text/plain": [
       "test_method (generic function with 1 method)"
      ]
     },
     "execution_count": 51,
     "metadata": {},
     "output_type": "execute_result"
    }
   ],
   "source": [
    "function test_method(method::String, w::Vector{Float64}, y::Vector{Float64}, n::Int)::Float64\n",
    "    start = time()\n",
    "    reps = 3\n",
    "    for reps = 1:reps\n",
    "        if method == \"rec\"\n",
    "            x_rec(w, y, n)\n",
    "        elseif method == \"loop\"\n",
    "            x_loop(w, y, n)\n",
    "        elseif method == \"pow\"\n",
    "            x_pow(w, y, n)\n",
    "        elseif method == \"eigen\"\n",
    "            x_eigen(w, y, n)\n",
    "        end\n",
    "    end\n",
    "    stop = time()\n",
    "    return (stop - start) / reps\n",
    "end"
   ]
  },
  {
   "cell_type": "code",
   "execution_count": 52,
   "metadata": {
    "ExecuteTime": {
     "end_time": "2020-11-05T15:22:29.838000+01:00",
     "start_time": "2020-11-05T14:22:27.667Z"
    }
   },
   "outputs": [
    {
     "name": "stderr",
     "output_type": "stream",
     "text": [
      "\u001b[32mProgress: 100%|█████████████████████████████████████████| Time: 0:00:01\u001b[39m\n"
     ]
    }
   ],
   "source": [
    "d = 5\n",
    "w = 0.1*rand(d)\n",
    "y = 1e5 * rand(d)\n",
    "\n",
    "times_by_method = Dict()\n",
    "n_values = convert.(Int, round.(10 .^ (2:0.5:7)))\n",
    "\n",
    "@showprogress for method in [\"loop\", \"pow\", \"eigen\"]\n",
    "    times_by_method[method] = Float64[]\n",
    "    for n in n_values\n",
    "        duration = test_method(method, w, y, n)\n",
    "        push!(times_by_method[method], duration)\n",
    "    end\n",
    "end"
   ]
  },
  {
   "cell_type": "code",
   "execution_count": 53,
   "metadata": {
    "ExecuteTime": {
     "end_time": "2020-11-05T15:22:30.923000+01:00",
     "start_time": "2020-11-05T14:22:28.335Z"
    }
   },
   "outputs": [
    {
     "data": {
      "image/png": "[encoded data removed]",
      "text/plain": [
       "Figure(PyObject <Figure size 640x480 with 1 Axes>)"
      ]
     },
     "metadata": {},
     "output_type": "display_data"
    }
   ],
   "source": [
    "for (i, method) in enumerate(collect(keys(times_by_method)))\n",
    "    scatter(n_values .* exp(i/3), times_by_method[method], label=method, alpha=0.7)\n",
    "end\n",
    "legend()\n",
    "xscale(\"log\")\n",
    "yscale(\"log\")\n",
    "ylim(1e-8, nothing)\n",
    "xlabel(\"value of n\")\n",
    "ylabel(\"execution time [log scale]\")\n",
    "show()"
   ]
  },
  {
   "cell_type": "markdown",
   "metadata": {},
   "source": [
    "Bonus question: why do both methods using matrix powers have sublinear complexity?"
   ]
  },
  {
   "cell_type": "markdown",
   "metadata": {},
   "source": [
    "## 3. Graph algorithms"
   ]
  },
  {
   "cell_type": "markdown",
   "metadata": {},
   "source": [
    "### Data structure"
   ]
  },
  {
   "cell_type": "markdown",
   "metadata": {},
   "source": [
    "Implement a weighted directed graph data structure called `Graph` where vertices are labelled from $1$ to $n$. Make sure that its attributes can be modified by putting the keyword `mutable` before `struct`."
   ]
  },
  {
   "cell_type": "code",
   "execution_count": 54,
   "metadata": {
    "ExecuteTime": {
     "end_time": "2020-11-05T15:22:39.293000+01:00",
     "start_time": "2020-11-05T14:22:39.285Z"
    }
   },
   "outputs": [],
   "source": [
    "mutable struct Graph\n",
    "    n::Int\n",
    "    adj::Vector{Vector{Int}}\n",
    "    weights::Dict{Tuple{Int, Int}, Float64}\n",
    "end"
   ]
  },
  {
   "cell_type": "markdown",
   "metadata": {},
   "source": [
    "### Describing a graph"
   ]
  },
  {
   "cell_type": "markdown",
   "metadata": {},
   "source": [
    "Implement a function `nv(G)` counting the vertices of a graph"
   ]
  },
  {
   "cell_type": "code",
   "execution_count": 55,
   "metadata": {
    "ExecuteTime": {
     "end_time": "2020-11-05T15:22:40.775000+01:00",
     "start_time": "2020-11-05T14:22:40.703Z"
    }
   },
   "outputs": [
    {
     "data": {
      "text/plain": [
       "nv (generic function with 1 method)"
      ]
     },
     "execution_count": 55,
     "metadata": {},
     "output_type": "execute_result"
    }
   ],
   "source": [
    "function nv(G::Graph)::Int\n",
    "    return G.n\n",
    "end"
   ]
  },
  {
   "cell_type": "markdown",
   "metadata": {},
   "source": [
    "Implement a function `vertices(G)` listing the vertices of a graph"
   ]
  },
  {
   "cell_type": "code",
   "execution_count": 56,
   "metadata": {
    "ExecuteTime": {
     "end_time": "2020-11-05T15:22:41.704000+01:00",
     "start_time": "2020-11-05T14:22:41.615Z"
    }
   },
   "outputs": [
    {
     "data": {
      "text/plain": [
       "vertices (generic function with 1 method)"
      ]
     },
     "execution_count": 56,
     "metadata": {},
     "output_type": "execute_result"
    }
   ],
   "source": [
    "function vertices(G::Graph)::Vector{Int}\n",
    "    V = collect(1:G.n)\n",
    "    return V\n",
    "end"
   ]
  },
  {
   "cell_type": "markdown",
   "metadata": {},
   "source": [
    "Implement a function `has_edge(G, u, v)` checking whether edge $(u, v)$ exists"
   ]
  },
  {
   "cell_type": "code",
   "execution_count": 57,
   "metadata": {
    "ExecuteTime": {
     "end_time": "2020-11-05T15:22:42.392000+01:00",
     "start_time": "2020-11-05T14:22:42.320Z"
    }
   },
   "outputs": [
    {
     "data": {
      "text/plain": [
       "has_edge (generic function with 1 method)"
      ]
     },
     "execution_count": 57,
     "metadata": {},
     "output_type": "execute_result"
    }
   ],
   "source": [
    "function has_edge(G::Graph, u::Int, v::Int)::Bool\n",
    "    return v in G.adj[u]\n",
    "end"
   ]
  },
  {
   "cell_type": "markdown",
   "metadata": {
    "ExecuteTime": {
     "end_time": "2020-10-25T21:15:15.591000+01:00",
     "start_time": "2020-10-25T20:15:15.584Z"
    }
   },
   "source": [
    "Implement the functions `inneighbors(G, v)` and `outneighbors(G, u)`, which list the parents and children of a vertex respectively"
   ]
  },
  {
   "cell_type": "code",
   "execution_count": 58,
   "metadata": {
    "ExecuteTime": {
     "end_time": "2020-11-05T15:22:43.150000+01:00",
     "start_time": "2020-11-05T14:22:43.075Z"
    }
   },
   "outputs": [
    {
     "data": {
      "text/plain": [
       "inneighbors (generic function with 1 method)"
      ]
     },
     "execution_count": 58,
     "metadata": {},
     "output_type": "execute_result"
    }
   ],
   "source": [
    "function outneighbors(G::Graph, u::Int)::Vector{Int}\n",
    "    return G.adj[u]\n",
    "end\n",
    "\n",
    "function inneighbors(G::Graph, v::Int)::Vector{Int}\n",
    "    return [u for u in vertices(G) if has_edge(G, u, v)]\n",
    "end"
   ]
  },
  {
   "cell_type": "markdown",
   "metadata": {},
   "source": [
    "Implement a function `edges(G)` listing the edges of a graph"
   ]
  },
  {
   "cell_type": "code",
   "execution_count": 59,
   "metadata": {
    "ExecuteTime": {
     "end_time": "2020-11-05T15:22:43.987000+01:00",
     "start_time": "2020-11-05T14:22:43.893Z"
    }
   },
   "outputs": [
    {
     "data": {
      "text/plain": [
       "edges (generic function with 1 method)"
      ]
     },
     "execution_count": 59,
     "metadata": {},
     "output_type": "execute_result"
    }
   ],
   "source": [
    "function edges(G::Graph)::Vector{Tuple{Int, Int}}\n",
    "    E = collect((u, v) for u in vertices(G) for v in outneighbors(G, u))\n",
    "    return E\n",
    "end"
   ]
  },
  {
   "cell_type": "markdown",
   "metadata": {},
   "source": [
    "Implement a function `weight(G, u, v)` computing the weight of an arc"
   ]
  },
  {
   "cell_type": "code",
   "execution_count": 60,
   "metadata": {
    "ExecuteTime": {
     "end_time": "2020-11-05T15:22:44.776000+01:00",
     "start_time": "2020-11-05T14:22:44.692Z"
    }
   },
   "outputs": [
    {
     "data": {
      "text/plain": [
       "weight (generic function with 1 method)"
      ]
     },
     "execution_count": 60,
     "metadata": {},
     "output_type": "execute_result"
    }
   ],
   "source": [
    "function weight(G::Graph, u::Int, v::Int)\n",
    "    return G.weights[(u, v)]\n",
    "end"
   ]
  },
  {
   "cell_type": "markdown",
   "metadata": {},
   "source": [
    "You can use the following function to plot a small graph:"
   ]
  },
  {
   "cell_type": "code",
   "execution_count": 61,
   "metadata": {
    "ExecuteTime": {
     "end_time": "2020-11-05T15:22:48.517000+01:00",
     "start_time": "2020-11-05T14:22:45.481Z"
    }
   },
   "outputs": [
    {
     "data": {
      "text/plain": [
       "plot_graph (generic function with 1 method)"
      ]
     },
     "execution_count": 61,
     "metadata": {},
     "output_type": "execute_result"
    }
   ],
   "source": [
    "import LightGraphs\n",
    "using GraphPlot\n",
    "\n",
    "function plot_graph(G::Graph)\n",
    "    LG = LightGraphs.SimpleGraph(nb_vertices(G))\n",
    "    for (u, v) in edges(G)\n",
    "        add_edge!(LG, u, v)\n",
    "    end\n",
    "    plotg(LG, nodelabel=1:nv(LG))\n",
    "end"
   ]
  },
  {
   "cell_type": "markdown",
   "metadata": {},
   "source": [
    "### Modifying a graph"
   ]
  },
  {
   "cell_type": "markdown",
   "metadata": {},
   "source": [
    "Implement functions `add_vertex!(G)` and `add_edge!(G, u, v, weight)`."
   ]
  },
  {
   "cell_type": "code",
   "execution_count": 62,
   "metadata": {
    "ExecuteTime": {
     "end_time": "2020-11-05T15:22:48.911000+01:00",
     "start_time": "2020-11-05T14:22:47.231Z"
    },
    "scrolled": true
   },
   "outputs": [
    {
     "data": {
      "text/plain": [
       "add_vertex! (generic function with 1 method)"
      ]
     },
     "execution_count": 62,
     "metadata": {},
     "output_type": "execute_result"
    }
   ],
   "source": [
    "function add_vertex!(G::Graph)\n",
    "    G.n += 1\n",
    "    push!(G.adj, Int[])\n",
    "end"
   ]
  },
  {
   "cell_type": "code",
   "execution_count": 63,
   "metadata": {
    "ExecuteTime": {
     "end_time": "2020-11-05T15:22:48.988000+01:00",
     "start_time": "2020-11-05T14:22:48.399Z"
    }
   },
   "outputs": [
    {
     "data": {
      "text/plain": [
       "add_edge! (generic function with 1 method)"
      ]
     },
     "execution_count": 63,
     "metadata": {},
     "output_type": "execute_result"
    }
   ],
   "source": [
    "function add_edge!(G::Graph, u::Int, v::Int, weight::Float64)\n",
    "    G.adj[u, v] = true\n",
    "    G.weights[(u, v)] = weight\n",
    "end"
   ]
  },
  {
   "cell_type": "markdown",
   "metadata": {},
   "source": [
    "### Graph exploration"
   ]
  },
  {
   "cell_type": "markdown",
   "metadata": {},
   "source": [
    "Implement depth-first search and topological sorting within a function `dfs`"
   ]
  },
  {
   "cell_type": "code",
   "execution_count": 64,
   "metadata": {
    "ExecuteTime": {
     "end_time": "2020-11-05T15:22:50.472000+01:00",
     "start_time": "2020-11-05T14:22:50.378Z"
    }
   },
   "outputs": [
    {
     "data": {
      "text/plain": [
       "dfs (generic function with 3 methods)"
      ]
     },
     "execution_count": 64,
     "metadata": {},
     "output_type": "execute_result"
    }
   ],
   "source": [
    "function dfs(G::Graph, s::Int, order::Dict{Int, Int}=Dict{Int, Int}(), max_order::Int=0)\n",
    "    if haskey(order, s)\n",
    "        parent = inneighbors(G, s)[1]\n",
    "        return dfs(G, parent, order, max_order)\n",
    "    else\n",
    "        for v in outneighbors(G, s)\n",
    "            if !haskey(order, v)\n",
    "                order, max_order = dfs(G, v, order, max_order)\n",
    "            end\n",
    "        end\n",
    "        order[s] = max_order + 1\n",
    "        max_order = max_order + 1\n",
    "    end\n",
    "    return order, max_order\n",
    "end"
   ]
  },
  {
   "cell_type": "markdown",
   "metadata": {},
   "source": [
    "### Shortest paths"
   ]
  },
  {
   "cell_type": "markdown",
   "metadata": {
    "ExecuteTime": {
     "end_time": "2020-11-04T20:23:48.730000+01:00",
     "start_time": "2020-11-04T19:23:48.691Z"
    }
   },
   "source": [
    "Implement the Ford-Bellman algorithm"
   ]
  },
  {
   "cell_type": "code",
   "execution_count": 65,
   "metadata": {
    "ExecuteTime": {
     "end_time": "2020-11-05T15:23:11.851000+01:00",
     "start_time": "2020-11-05T14:23:11.755Z"
    }
   },
   "outputs": [
    {
     "data": {
      "text/plain": [
       "ford_bellman (generic function with 1 method)"
      ]
     },
     "execution_count": 65,
     "metadata": {},
     "output_type": "execute_result"
    }
   ],
   "source": [
    "function ford_bellman(G::Graph, s::Int)\n",
    "    c = Matrix{Float64}(undef, nv(G)+1, nv(G))\n",
    "    for k = 0:nv(G)\n",
    "        for v in vertices(G)\n",
    "            if k == 0\n",
    "                c[k+1, v] = (v == s) ? 0. : +Inf\n",
    "            else\n",
    "                c[k+1, v] = minimum([+Inf; [c[k, u] + weight(G, u, v) for u in inneighbors(G, v)]])\n",
    "            end\n",
    "        end\n",
    "    end\n",
    "    return minimum(c, dims=1)\n",
    "end"
   ]
  },
  {
   "cell_type": "markdown",
   "metadata": {},
   "source": [
    "Implement Dijkstra's algorithm, either in a naive way or using the priority queue of `DataStructures`"
   ]
  },
  {
   "cell_type": "code",
   "execution_count": null,
   "metadata": {},
   "outputs": [],
   "source": []
  },
  {
   "cell_type": "markdown",
   "metadata": {},
   "source": [
    "### Spanning tree"
   ]
  },
  {
   "cell_type": "markdown",
   "metadata": {},
   "source": [
    "Implement Kruskal's algorithm"
   ]
  },
  {
   "cell_type": "code",
   "execution_count": null,
   "metadata": {},
   "outputs": [],
   "source": []
  },
  {
   "cell_type": "markdown",
   "metadata": {},
   "source": [
    "### Flows and matchings"
   ]
  },
  {
   "cell_type": "markdown",
   "metadata": {},
   "source": [
    "Implement the Edmunds-Karp algorithm, using edge weights as the capacities"
   ]
  },
  {
   "cell_type": "code",
   "execution_count": null,
   "metadata": {},
   "outputs": [],
   "source": []
  },
  {
   "cell_type": "markdown",
   "metadata": {},
   "source": [
    "Implement a function checking whether a graph is bipartite"
   ]
  },
  {
   "cell_type": "code",
   "execution_count": null,
   "metadata": {},
   "outputs": [],
   "source": []
  },
  {
   "cell_type": "markdown",
   "metadata": {
    "ExecuteTime": {
     "end_time": "2020-11-04T20:26:01.473000+01:00",
     "start_time": "2020-11-04T19:26:01.450Z"
    }
   },
   "source": [
    "Implement the Hungarian algorithm"
   ]
  },
  {
   "cell_type": "code",
   "execution_count": null,
   "metadata": {},
   "outputs": [],
   "source": []
  },
  {
   "cell_type": "markdown",
   "metadata": {},
   "source": [
    "### Test your functions on real graphs"
   ]
  },
  {
   "cell_type": "markdown",
   "metadata": {},
   "source": [
    "## 4. Mathematical programming"
   ]
  },
  {
   "cell_type": "markdown",
   "metadata": {},
   "source": [
    "Implement the LP formulation of the maximum flow problem"
   ]
  },
  {
   "cell_type": "code",
   "execution_count": null,
   "metadata": {},
   "outputs": [],
   "source": []
  },
  {
   "cell_type": "markdown",
   "metadata": {},
   "source": [
    "Implement the LP resolution method for the maximum spanning tree"
   ]
  },
  {
   "cell_type": "code",
   "execution_count": null,
   "metadata": {},
   "outputs": [],
   "source": []
  },
  {
   "cell_type": "code",
   "execution_count": null,
   "metadata": {},
   "outputs": [],
   "source": []
  },
  {
   "cell_type": "code",
   "execution_count": null,
   "metadata": {},
   "outputs": [],
   "source": []
  }
 ],
 "metadata": {
  "kernelspec": {
   "display_name": "Julia 1.5.2",
   "language": "julia",
   "name": "julia-1.5"
  },
  "language_info": {
   "file_extension": ".jl",
   "mimetype": "application/julia",
   "name": "julia",
   "version": "1.5.2"
  },
  "latex_envs": {
   "LaTeX_envs_menu_present": true,
   "autoclose": false,
   "autocomplete": true,
   "bibliofile": "biblio.bib",
   "cite_by": "apalike",
   "current_citInitial": 1,
   "eqLabelWithNumbers": true,
   "eqNumInitial": 1,
   "hotkeys": {
    "equation": "Ctrl-E",
    "itemize": "Ctrl-I"
   },
   "labels_anchors": false,
   "latex_user_defs": false,
   "report_style_numbering": false,
   "user_envs_cfg": false
  }
 },
 "nbformat": 4,
 "nbformat_minor": 2
}
